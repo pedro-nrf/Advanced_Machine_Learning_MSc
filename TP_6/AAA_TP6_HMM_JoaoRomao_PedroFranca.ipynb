{
 "cells": [
  {
   "cell_type": "markdown",
   "metadata": {},
   "source": [
    "# Aprendizagem Automática Avançada\n",
    "## TP6 - HMM exercises\n",
    "João Romão - 55760,\n",
    "Pedro França - 55848"
   ]
  },
  {
   "cell_type": "code",
   "execution_count": 1,
   "metadata": {},
   "outputs": [],
   "source": [
    "import numpy as np\n",
    "from hmmlearn import hmm\n",
    "import pickle\n",
    "import pandas as pd\n",
    "import matplotlib.pyplot as plt"
   ]
  },
  {
   "cell_type": "markdown",
   "metadata": {},
   "source": [
    "## 0. Some aspects of HMMs and the hmmlearn library"
   ]
  },
  {
   "cell_type": "markdown",
   "metadata": {},
   "source": [
    "### 0.1. Hidden Markov Models (HMMs)"
   ]
  },
  {
   "cell_type": "markdown",
   "metadata": {},
   "source": [
    "A Hidden Markov Model is generative probabilistic model that assumes the Marvok property (that is, it assumes that future states depend only on the current state and not on states that occurred previously). However, in HMMs the underlying states (Z) are hidden, and it is only possible to know the observations (X) generated because of these states. In other words, states cannot be observed directly, but their resulting observations can. \n",
    "\n",
    "The transitions between hidden states are assumed to have the form of a (first-order) Markov chain. They can be specified by the __start probability vector π__ and a __transition probability matrix A__. The __emission probability__ of an observable can be any distribution with parameters __θ__ conditioned on the current hidden state. The HMM is completely determined by π, A and θ.\n",
    "\n",
    "Therefore, by assessing a set of __X__ observations, we can infer which is the most likely sequence of __Z__ hidden states, based on π, A, and θ."
   ]
  },
  {
   "cell_type": "markdown",
   "metadata": {},
   "source": [
    "### 0.2. Available models\n",
    "\n",
    "The hmmlearn library has 3 different HMMs available:\n",
    "\n",
    "* hmm.GaussianHMM - Hidden Markov Model with Gaussian emissions.\n",
    "\n",
    "* hmm.GMMHMM - Hidden Markov Model with Gaussian mixture emissions.\n",
    "\n",
    "* hmm.MultinomialHMM -Hidden Markov Model with multinomial (discrete) emissions.\n",
    "\n",
    "The first as last HMMs will be used in exercise 1 and 2, respectively."
   ]
  },
  {
   "cell_type": "markdown",
   "metadata": {},
   "source": [
    "## 1. Exercise 1 - HMM illustrated"
   ]
  },
  {
   "cell_type": "markdown",
   "metadata": {},
   "source": [
    "On this first exercise we are running the example in the [hmmlearn tutorial](https://hmmlearn.readthedocs.io/en/latest/tutorial.html) and analysing the steps and results."
   ]
  },
  {
   "cell_type": "markdown",
   "metadata": {},
   "source": [
    "### 1.1 Building HMM and generating samples"
   ]
  },
  {
   "cell_type": "markdown",
   "metadata": {},
   "source": [
    "We will be building a GaussinHMMM and passing all necessary parameters to define it. In these models the observation probability distribution is the normal distribution, meaning the emission probabilities need to be defined using the mean and covariance. According to the parameters defined in the tutorial we can observe that the model we will be building has:\n",
    "- three states\n",
    "- starting probabilities of 0.6, 0.3, and 0.1\n",
    "- transference probabilities are defined by the matrix (model.transmat\\_)\n",
    "- emission probabilities follow a normal distribution defined by the means and covariances\n",
    "\n",
    "We can also generate samples from the model, returning a sequence of corresponding observed values and hidden state sequence."
   ]
  },
  {
   "cell_type": "code",
   "execution_count": 2,
   "metadata": {},
   "outputs": [],
   "source": [
    "np.random.seed(42)\n",
    "\n",
    "# building the GaussianHMM with the parameters\n",
    "model = hmm.GaussianHMM(n_components=3, covariance_type=\"full\")\n",
    "model.startprob_ = np.array([0.6, 0.3, 0.1])\n",
    "model.transmat_ = np.array([[0.7, 0.2, 0.1],\n",
    "                            [0.3, 0.5, 0.2],\n",
    "                            [0.3, 0.3, 0.4]])\n",
    "model.means_ = np.array([[0.0, 0.0], [3.0, -3.0], [5.0, 10.0]])\n",
    "model.covars_ = np.tile(np.identity(2), (3, 1, 1))\n",
    "\n",
    "# generating 100 samples from the model\n",
    "X, Z = model.sample(100)"
   ]
  },
  {
   "cell_type": "code",
   "execution_count": 3,
   "metadata": {
    "scrolled": true
   },
   "outputs": [
    {
     "name": "stdout",
     "output_type": "stream",
     "text": [
      "Observations\n",
      "[[-1.11188012e+00  3.18902185e-01]\n",
      " [ 1.57921282e+00  7.67434729e-01]\n",
      " [-5.80878134e-01 -5.25169807e-01]\n",
      " [ 2.41962272e-01 -1.91328024e+00]\n",
      " [ 8.16445081e-01 -1.52387600e+00]\n",
      " [-9.08024076e-01 -1.41230370e+00]\n",
      " [-6.29474961e-01  5.97720467e-01]\n",
      " [-5.44382725e-01  1.10922590e-01]\n",
      " [-6.00253850e-01  9.47439821e-01]\n",
      " [-6.01706612e-01  1.85227818e+00]\n",
      " [-5.33648804e-01 -5.52786232e-03]\n",
      " [ 5.82254491e+00  8.77915635e+00]\n",
      " [ 5.77831304e+00 -1.80636028e+00]\n",
      " [ 7.38466580e-01  1.71368281e-01]\n",
      " [-1.00908534e+00 -1.58329421e+00]\n",
      " [-4.60638771e-01  1.05712223e+00]\n",
      " [-1.13055230e+00  1.34428883e-01]\n",
      " [ 2.32307800e+00 -2.38832371e+00]\n",
      " [ 5.82122795e-01  8.87748460e-01]\n",
      " [ 2.16078248e+00 -3.30921238e+00]\n",
      " [ 3.49184671e+00  1.10996470e+01]\n",
      " [-1.10633497e+00 -1.19620662e+00]\n",
      " [ 3.83479542e+00 -2.70343862e+00]\n",
      " [ 3.36163603e+00 -3.64511975e+00]\n",
      " [ 4.49543425e+00 -2.66181875e+00]\n",
      " [ 3.80254896e-01 -2.17809750e+00]\n",
      " [-1.41875046e+00  1.04249162e+00]\n",
      " [-2.19671888e-01  3.57112572e-01]\n",
      " [-7.89258329e-01  7.43711284e-01]\n",
      " [-8.08493603e-01 -5.01757044e-01]\n",
      " [ 5.50144833e+00  1.11581867e+01]\n",
      " [ 4.47023980e+00  1.05132674e+01]\n",
      " [ 6.37186213e+00  1.01755533e+01]\n",
      " [ 4.29794691e+00  9.67233785e+00]\n",
      " [ 1.27373362e+00 -2.91952671e-01]\n",
      " [ 3.00511346e+00 -3.23458713e+00]\n",
      " [ 2.60448355e+00 -3.28913686e+00]\n",
      " [ 2.83871429e+00 -2.59594914e+00]\n",
      " [ 2.05694319e+00 -1.59604126e+00]\n",
      " [ 3.08122878e+00  9.97348612e+00]\n",
      " [ 1.02347683e-01 -4.32609281e-01]\n",
      " [-1.92360965e-01  3.01547342e-01]\n",
      " [ 3.39820964e-01 -7.38014994e-03]\n",
      " [ 1.14282281e+00  7.51933033e-01]\n",
      " [-8.01827843e-01  1.38401572e+00]\n",
      " [ 5.86857094e-01  2.19045563e+00]\n",
      " [-4.93432482e-01  9.23162608e-01]\n",
      " [ 9.96513651e-02 -5.03475654e-01]\n",
      " [ 9.14434574e-03 -3.65539297e-01]\n",
      " [-1.06230371e+00  4.73592431e-01]\n",
      " [ 6.20548216e-01 -1.60937377e-01]\n",
      " [-7.83253292e-01 -3.22061516e-01]\n",
      " [ 4.64325497e+00  1.05561218e+01]\n",
      " [ 5.22745993e+00  1.13071428e+01]\n",
      " [ 2.67550904e+00 -3.20586672e+00]\n",
      " [ 5.25988279e+00  1.07818229e+01]\n",
      " [ 4.29939681e+00 -3.86714616e+00]\n",
      " [ 5.25049285e+00  1.03464482e+01]\n",
      " [ 5.22628827e+00  1.08474014e+01]\n",
      " [ 2.93072473e-01 -7.14351418e-01]\n",
      " [ 1.74833012e-01 -1.21685489e+00]\n",
      " [-1.19130350e+00  6.56553609e-01]\n",
      " [ 2.24882058e+00 -4.13042805e+00]\n",
      " [ 3.96337613e+00 -2.58721907e+00]\n",
      " [ 2.13235891e+00 -2.85413815e+00]\n",
      " [ 2.11048557e+00 -3.81581028e+00]\n",
      " [ 5.87867355e+00  9.76040549e+00]\n",
      " [ 5.01300189e+00  1.14535341e+01]\n",
      " [ 1.59359473e+00 -3.03452966e+00]\n",
      " [ 1.92910750e+00 -2.51752758e+00]\n",
      " [ 4.87586761e+00  1.07403408e+01]\n",
      " [ 4.15320628e+00  8.48515278e+00]\n",
      " [ 4.07395338e+00  9.48703468e+00]\n",
      " [ 3.17318093e+00 -2.61468262e+00]\n",
      " [ 3.23095372e+00 -3.80893689e+00]\n",
      " [ 5.05820872e+00  8.85702970e+00]\n",
      " [ 5.87244716e+00  1.10661985e+01]\n",
      " [ 3.62233063e+00  9.06217496e+00]\n",
      " [ 5.30444912e+00  1.02572075e+01]\n",
      " [ 5.51504769e+00  1.38527315e+01]\n",
      " [ 6.33088133e+00  1.09882026e+01]\n",
      " [ 4.68473076e+00  1.07589692e+01]\n",
      " [ 3.16502280e+00 -3.85592892e+00]\n",
      " [ 2.31465857e+00 -1.86726519e+00]\n",
      " [-4.14531805e-01  8.01987125e-02]\n",
      " [-4.71931866e-01  1.08895060e+00]\n",
      " [ 1.56038014e+00  1.28551000e-01]\n",
      " [-7.30366632e-01  2.16458590e-01]\n",
      " [ 2.38903596e+00  1.84341376e+00]\n",
      " [-2.02514259e+00  1.86454315e-01]\n",
      " [ 2.55550126e+00 -4.66913236e+00]\n",
      " [ 5.04987279e-01  8.65755194e-01]\n",
      " [-3.34247091e-01 -3.17846907e-01]\n",
      " [ 1.76545424e+00  4.04981711e-01]\n",
      " [ 3.77296265e-01  1.65135099e+00]\n",
      " [-1.51936997e+00 -4.84234073e-01]\n",
      " [-2.37391961e-01  1.87200568e+00]\n",
      " [-3.24126734e+00 -1.02438764e+00]\n",
      " [-1.99496157e+00 -1.30019284e+00]\n",
      " [-4.40044487e-01  1.30740577e-01]]\n"
     ]
    }
   ],
   "source": [
    "#Sample observations\n",
    "print(\"Observations\")\n",
    "print(X)"
   ]
  },
  {
   "cell_type": "code",
   "execution_count": 4,
   "metadata": {},
   "outputs": [
    {
     "name": "stdout",
     "output_type": "stream",
     "text": [
      "Hidden states\n",
      "[0 0 0 0 0 0 0 0 0 0 0 2 1 0 0 0 0 1 0 1 2 0 1 1 1 1 0 0 0 0 2 2 2 2 0 1 1\n",
      " 1 1 2 0 0 0 0 0 0 0 0 0 0 0 0 2 2 1 2 1 2 2 0 0 0 1 1 1 1 2 2 1 1 2 2 2 1\n",
      " 1 2 2 2 2 2 2 2 1 0 0 0 0 0 0 0 1 0 0 0 0 0 0 0 0 0]\n"
     ]
    }
   ],
   "source": [
    "#Sample hidden states\n",
    "print(\"Hidden states\")\n",
    "print(Z)"
   ]
  },
  {
   "cell_type": "markdown",
   "metadata": {},
   "source": [
    "### 1.2 Plotting the samples"
   ]
  },
  {
   "cell_type": "markdown",
   "metadata": {},
   "source": [
    "We can also plot the sampled observation by following the [plot instructions](https://hmmlearn.readthedocs.io/en/latest/auto_examples/plot_hmm_sampling.html#sphx-glr-auto-examples-plot-hmm-sampling-py) in the tutorial. We used the 100 samples generated previously and plotted them in a 2D graph, together with the three components. The transitions between states are represented with the lines connecting the observations, although it is hard to decipher how these are transitioning, since the resulting plot is very busy. Nonetheless, we can observe that component 1 appears to have a greater number of \"internal connections\" meaning this state has a great likelihood of transitioning to itself, as denoted in the corresponding probability in the transaction matrix (0.7)."
   ]
  },
  {
   "cell_type": "code",
   "execution_count": 5,
   "metadata": {},
   "outputs": [
    {
     "data": {
      "image/png": "[encoded data removed]",
      "text/plain": [
       "<Figure size 720x432 with 1 Axes>"
      ]
     },
     "metadata": {
      "needs_background": "light"
     },
     "output_type": "display_data"
    }
   ],
   "source": [
    "# Plot the sampled data\n",
    "plt.figure(figsize=(10,6))\n",
    "\n",
    "plt.plot(X[:, 0], X[:, 1], \".-\", label=\"observations\", ms=6,\n",
    "         mfc=\"orange\", alpha=0.7)\n",
    "\n",
    "# Indicate the component numbers\n",
    "for i, m in enumerate(model.means_):\n",
    "    plt.text(m[0], m[1], 'Component %i' % (i + 1),\n",
    "             size=17, horizontalalignment='center',\n",
    "             bbox=dict(alpha=.7, facecolor='w'))\n",
    "plt.legend(loc='best')\n",
    "plt.show()"
   ]
  },
  {
   "cell_type": "markdown",
   "metadata": {},
   "source": [
    "### 1.3 Fixing parameters"
   ]
  },
  {
   "cell_type": "markdown",
   "metadata": {},
   "source": [
    "Parameters of HMM can be set explicitly, such as we did in 1.1 where we built the model and defined all its parameters. However, the algorithm can also compute these values, but we need to pass the missing parameters into `init_params`, which takes a string with a representation of the parameters that were not explicitly defined. For example, if we wish to define a GaussianHMM without explicitly defining the means, covariances, and starting probabilities we need to pass their strings codes as 'mcs'. If the transition matrix was not explicitly defined, the 't' string code should be passed into `init_params`."
   ]
  },
  {
   "cell_type": "code",
   "execution_count": 6,
   "metadata": {},
   "outputs": [],
   "source": [
    "model = hmm.GaussianHMM(n_components=3, n_iter=100, init_params=\"mcs\")\n",
    "model.transmat_ = np.array([[0.7, 0.2, 0.1],\n",
    "                            [0.3, 0.5, 0.2],\n",
    "                            [0.3, 0.3, 0.4]])"
   ]
  },
  {
   "cell_type": "markdown",
   "metadata": {},
   "source": [
    "Since we have 3 states (0, 1, 2), we can explicitly define the transition matrix to inhibit transitions between certain states (corresponding to the zeros in the *transmat*). Likewise, we can also define the start probabilities to force a certain state to be the first, by passing '1' as its correspondent probability. In the cell bellow, the first state will always be 'component 0'."
   ]
  },
  {
   "cell_type": "code",
   "execution_count": 7,
   "metadata": {},
   "outputs": [],
   "source": [
    "lr = hmm.GaussianHMM(n_components=3, covariance_type=\"diag\", init_params=\"cm\", params=\"cmt\")\n",
    "\n",
    "lr.startprob_ = np.array([1.0, 0.0, 0.0])\n",
    "lr.transmat_ = np.array([[0.5, 0.5, 0.0],\n",
    "                         [0.0, 0.5, 0.5],\n",
    "                         [0.0, 0.0, 1.0]])"
   ]
  },
  {
   "cell_type": "markdown",
   "metadata": {},
   "source": [
    "### 1.4 Training HMM parameters and inferring the hidden states"
   ]
  },
  {
   "cell_type": "markdown",
   "metadata": {},
   "source": [
    "It is also possible to train an HMM by fitting it to a sequence of observations. In this case, the missing parameters of the model will be estimated and can be accessed by calling the respective methods."
   ]
  },
  {
   "cell_type": "code",
   "execution_count": 8,
   "metadata": {},
   "outputs": [
    {
     "name": "stdout",
     "output_type": "stream",
     "text": [
      "Estimated start probabilities\n",
      "[1.00000000e+000 2.48941256e-183 3.53281766e-055]\n",
      "\n",
      "Estimated transition matrix\n",
      "[[0.82609568 0.05807072 0.1158336 ]\n",
      " [0.16631341 0.58333333 0.25035326]\n",
      " [0.21501841 0.300616   0.48436559]]\n",
      "\n",
      "Estimated means\n",
      "[[-0.24426782  0.12768295]\n",
      " [ 4.9594706  10.41581473]\n",
      " [ 2.91854222 -3.03503021]]\n",
      "\n",
      "Estimated covariances\n",
      "[[[1.02740432 0.20512672]\n",
      "  [0.20512672 0.96324689]]\n",
      "\n",
      " [[0.71350998 0.24714943]\n",
      "  [0.24714943 1.20133896]]\n",
      "\n",
      " [[1.013082   0.0738489 ]\n",
      "  [0.0738489  0.59217614]]]\n"
     ]
    }
   ],
   "source": [
    "# fitting a model that is not completely defined\n",
    "remodel = hmm.GaussianHMM(n_components=3, covariance_type=\"full\", n_iter=1000)\n",
    "remodel.fit(X)\n",
    "\n",
    "# retrieving the most-likely state sequence\n",
    "Z2 = remodel.predict(X)\n",
    "\n",
    "# printing the estimated parameters\n",
    "print('Estimated start probabilities')\n",
    "print(remodel.startprob_)\n",
    "print(\"\")\n",
    "print('Estimated transition matrix')\n",
    "print(remodel.transmat_)\n",
    "print(\"\")\n",
    "print('Estimated means')\n",
    "print(remodel.means_)\n",
    "print(\"\")\n",
    "print('Estimated covariances')\n",
    "print(remodel.covars_)"
   ]
  },
  {
   "cell_type": "markdown",
   "metadata": {},
   "source": [
    "As observed, the estimated start probabilities, transition matrix, means, and covariance are not the same as those defined in 1.1. This was expected since the new model must estimate all the parameters. Nonetheless, the estimated transition matrix, estimated means, and estimated covariance are actually very close to those previously defined, although the second and third states are switched regarding their previous order. The start probabilities present the most differences from those of 1.1, with the first component having very close to 100% probability of being the first state.\n",
    "\n",
    "We can also access a prediction of the most-likely hidden state sequence by using .predict(), as well inspect the log-probability of X using .score(), passing the matrix of observations X in both cases."
   ]
  },
  {
   "cell_type": "code",
   "execution_count": 9,
   "metadata": {},
   "outputs": [
    {
     "name": "stdout",
     "output_type": "stream",
     "text": [
      "Model score: -349.6405229127373\n",
      "\n",
      "Most-likely state sequence\n",
      "[0 0 0 0 0 0 0 0 0 0 0 1 2 0 0 0 0 2 0 2 1 0 2 2 2 0 0 0 0 0 1 1 1 1 0 2 2\n",
      " 2 2 1 0 0 0 0 0 0 0 0 0 0 0 0 1 1 2 1 2 1 1 0 0 0 2 2 2 2 1 1 2 2 1 1 1 2\n",
      " 2 1 1 1 1 1 1 1 2 2 0 0 0 0 0 0 2 0 0 0 0 0 0 0 0 0]\n"
     ]
    }
   ],
   "source": [
    "print(\"Model score: \" + str(remodel.score(X)) + \"\\n\")\n",
    "print('Most-likely state sequence')\n",
    "print(Z2)"
   ]
  },
  {
   "cell_type": "markdown",
   "metadata": {},
   "source": [
    "We can see that the log-probability score is extremely small. However, we need to consider that we are calculating the likelihood of a sequence of 100 observations (implying the product of 100 conditional probabilities), so the global probability of this scenario should be expected to be very small. From this we can infer that by decreasing the number of observations the model would have a higher score:"
   ]
  },
  {
   "cell_type": "code",
   "execution_count": 10,
   "metadata": {},
   "outputs": [
    {
     "name": "stdout",
     "output_type": "stream",
     "text": [
      "Model score for 10 observations: -31.051041832803936\n",
      "\n",
      "Most-likely state sequence\n",
      "[0 0 0 0 0 0 0 0 0 0]\n"
     ]
    }
   ],
   "source": [
    "X = X[0:10]\n",
    "\n",
    "print(\"Model score for 10 observations: \" + str(remodel.score(X)) + \"\\n\")\n",
    "print('Most-likely state sequence')\n",
    "print(remodel.predict(X))"
   ]
  },
  {
   "cell_type": "markdown",
   "metadata": {},
   "source": [
    "### 1.5 Monitoring convergence"
   ]
  },
  {
   "cell_type": "markdown",
   "metadata": {},
   "source": [
    "We can use _remodel.monitor_ _ to monitor the trained model and use _monitor_.converged_ to confirm whether the model has converged or not. In this case, we can see that converge was achieved in the model trained in the previous subsection. We can also see the number of iterations it took to converge ny inspecting `iter`. Moreover, we can confirm that the last score obtained in `history` is the same score we showed previously for the 100 samples."
   ]
  },
  {
   "cell_type": "code",
   "execution_count": 11,
   "metadata": {},
   "outputs": [
    {
     "name": "stdout",
     "output_type": "stream",
     "text": [
      "Monitoring convergency:\n",
      "\n",
      "  ConvergenceMonitor(\n",
      "    history=[-520.3118484058581, -418.10841794385755, -359.3321480988338, -351.7436882256872, -350.76286232157804, -350.041497727218, -349.7332588334996, -349.66142733454757, -349.64486703519503, -349.64125529326515],\n",
      "    iter=10,\n",
      "    n_iter=1000,\n",
      "    tol=0.01,\n",
      "    verbose=False,\n",
      ")\n",
      "\n",
      "\n",
      "Model converged: True\n"
     ]
    }
   ],
   "source": [
    "# assessing convergence\n",
    "print (\"Monitoring convergency:\\n\\n \", remodel.monitor_)\n",
    "print (\"\\n\\nModel converged:\",remodel.monitor_.converged)"
   ]
  },
  {
   "cell_type": "markdown",
   "metadata": {},
   "source": [
    "### 1.6 Working with multiple sequences"
   ]
  },
  {
   "cell_type": "markdown",
   "metadata": {},
   "source": [
    "When using two sequences of observations that we wish to pass as an input to fit a model and to predict the most-likely hidden states, we first need to concatenate them and compute an array of sequence lengths."
   ]
  },
  {
   "cell_type": "code",
   "execution_count": 12,
   "metadata": {},
   "outputs": [],
   "source": [
    "X1 = [[0.5], [1.0], [-1.0], [0.42], [0.24]]\n",
    "X2 = [[2.4], [4.2], [0.5], [-0.24]]"
   ]
  },
  {
   "cell_type": "code",
   "execution_count": 13,
   "metadata": {},
   "outputs": [],
   "source": [
    "#concatenating the arrays of observations\n",
    "X = np.concatenate([X1, X2])\n",
    "\n",
    "#array of sequence lengths\n",
    "lengths = [len(X1), len(X2)]"
   ]
  },
  {
   "cell_type": "code",
   "execution_count": 14,
   "metadata": {},
   "outputs": [
    {
     "name": "stderr",
     "output_type": "stream",
     "text": [
      "Fitting a model with 14 free scalar parameters with only 9 data points will result in a degenerate solution.\n"
     ]
    },
    {
     "data": {
      "text/plain": [
       "GaussianHMM(algorithm='viterbi', covariance_type='diag', covars_prior=0.01,\n",
       "            covars_weight=1, init_params='stmc', means_prior=0, means_weight=0,\n",
       "            min_covar=0.001, n_components=3, n_iter=10, params='stmc',\n",
       "            random_state=None, startprob_prior=1.0, tol=0.01,\n",
       "            transmat_prior=1.0, verbose=False)"
      ]
     },
     "execution_count": 14,
     "metadata": {},
     "output_type": "execute_result"
    }
   ],
   "source": [
    "newmodel = hmm.GaussianHMM(n_components=3).fit(X, lengths)\n",
    "newmodel"
   ]
  },
  {
   "cell_type": "code",
   "execution_count": 15,
   "metadata": {},
   "outputs": [
    {
     "data": {
      "text/plain": [
       "array([0, 2, 2, 0, 2, 1, 1, 0, 2])"
      ]
     },
     "execution_count": 15,
     "metadata": {},
     "output_type": "execute_result"
    }
   ],
   "source": [
    "newmodel.predict(X,lengths)"
   ]
  },
  {
   "cell_type": "markdown",
   "metadata": {},
   "source": [
    "### 1.7 Saving and loading HMM"
   ]
  },
  {
   "cell_type": "markdown",
   "metadata": {},
   "source": [
    "Finally, after we train a model we can save the HMM for future use using the pickle module, as shown in the cell bellow:"
   ]
  },
  {
   "cell_type": "code",
   "execution_count": 16,
   "metadata": {},
   "outputs": [],
   "source": [
    "with open(\"filename.pkl\", \"wb\") as file: pickle.dump(remodel, file)\n",
    "with open(\"filename.pkl\", \"rb\") as file: pickle.load(file)"
   ]
  },
  {
   "cell_type": "markdown",
   "metadata": {},
   "source": [
    "## 2. Exercise 2 - Dishonest casino problem"
   ]
  },
  {
   "cell_type": "markdown",
   "metadata": {},
   "source": [
    "To solve this exercise we will use the **MultinomialHMM** model and set up the **starting probability**, **transition matrix** and **emission probabilities** given by [slide 23](https://moodle.ciencias.ulisboa.pt/pluginfile.php/332825/mod_resource/content/7/markov.pdf).\n",
    "\n",
    "For part a) of this exercise we will assume all parameters are known and, therefore, define them explicitly. However, in the following parts we will be assuming one or more parameters are unknown and will be estimated using the .fit() method with our array of observations (X), which we also took from the slides. In these cases, we will fit the model 10 different times to generate estimates of the unknown parameters and present the results for the model that had the highest score. To randomly initialize the unknown parameters, we need to pass their respective string code into `init_params`. Furthermore, we need to define which parameters we wish to update along the different iterations of the fit by also passing their string code into `params`, otherwise this will default to \"all parameters\" (\"ste\" in this case). This would cause all parameters to update along the iterations as well, using the parameters we define initially as the starting points.\n",
    "\n",
    "We will be displaying the score, most-likely state sequence, as well as estimated probabilities for each part of the exercise."
   ]
  },
  {
   "cell_type": "code",
   "execution_count": 17,
   "metadata": {},
   "outputs": [],
   "source": [
    "# array of observations based on slide 23\n",
    "X = np.array([5, 5, 3, 0, 4, 2, 1, 0, 5, 0, 5, 1, 0, 0, 4, 1, 2, 3, 5, 4, 2, 1, 0, 3, 2, 4, 5, 5, 2, 3, 1, 5, 0,\n",
    "              5, 4, 4, 1, 2, 3, 1, 2, 1, 2, 0, 4, 0, 3, 1, 3, 5, 3, 0, 4, 5, 5, 5, 2, 1, 3, 5]).reshape(-1, 1)"
   ]
  },
  {
   "cell_type": "markdown",
   "metadata": {},
   "source": [
    "### a) Construct the model assuming all parameters known"
   ]
  },
  {
   "cell_type": "code",
   "execution_count": 18,
   "metadata": {},
   "outputs": [
    {
     "name": "stdout",
     "output_type": "stream",
     "text": [
      "Model score: -107.09587125905627\n",
      "\n",
      "Most-likely state sequence\n",
      "[0 0 0 0 0 0 0 0 0 0 0 0 0 0 0 0 0 0 0 0 0 0 0 0 0 0 0 0 0 0 0 0 0 0 0 0 0\n",
      " 0 0 0 0 0 0 0 0 0 0 0 0 0 0 0 0 0 0 0 0 0 0 0]\n"
     ]
    }
   ],
   "source": [
    "model = hmm.MultinomialHMM(n_components=2)\n",
    "model.startprob_ = np.array([(2/3), (1/3)])\n",
    "model.transmat_ = np.array([[0.95, 0.05],\n",
    "                            [0.1, 0.9]])\n",
    "\n",
    "model.emissionprob_ = np.array([[1/6, 1/6, 1/6, 1/6, 1/6, 1/6],\n",
    "                                 [1/10, 1/10, 1/10, 1/10, 1/10, 5/10]])\n",
    "\n",
    "print('Model score: ' + str(model.score(X)) + \"\\n\")\n",
    "print('Most-likely state sequence')\n",
    "print(model.predict(X))"
   ]
  },
  {
   "cell_type": "markdown",
   "metadata": {},
   "source": [
    "We can see that the most-likely state sequence is composed of only zeros (corresponding to the Fair die, according to our parameterization). This is a divergence from the slide results, which display alternating states of Fair and Loaded dice (0 and 1, respectively) in larger group with the same state. By inspecting the transition matrix alone, we would expect a model transition from 0 to 1 to occur with a 0.05 probability, should the emission probabilities be disregarded. However, the model estimates the most-likely sequence of states based on the observations to which it is fitted, meaning this sequence is the one that has the highest likelihood of emitting the observations in X."
   ]
  },
  {
   "cell_type": "markdown",
   "metadata": {},
   "source": [
    "### b) Train the model assuming the transition probability matrix is unknown"
   ]
  },
  {
   "cell_type": "code",
   "execution_count": 19,
   "metadata": {
    "scrolled": true
   },
   "outputs": [
    {
     "name": "stdout",
     "output_type": "stream",
     "text": [
      "Model score: -106.22451383708366\n",
      "\n",
      "Most-likely state sequence\n",
      "[1 1 0 0 0 0 0 0 0 0 0 0 0 0 0 0 0 0 0 0 0 0 0 0 0 0 0 0 0 0 0 0 0 0 0 0 0\n",
      " 0 0 0 0 0 0 0 0 0 0 0 0 0 0 0 0 0 0 0 0 0 0 0]\n",
      "\n",
      "Estimated transition matrix\n",
      "[[0.89274811 0.10725189]\n",
      " [0.56619456 0.43380544]]\n"
     ]
    }
   ],
   "source": [
    "max_score = float('-inf') #defining a very low score to start\n",
    "\n",
    "#fitting the model 10 times and displaying the results for the one with the highest score\n",
    "for i in range(10):\n",
    "    model = hmm.MultinomialHMM(n_components=2, init_params=\"t\", params = \"t\", n_iter=10000, tol=0.001)\n",
    "    model.startprob_ = np.array([(2/3), (1/3)])\n",
    "    model.emissionprob_ = np.array([[1/6, 1/6, 1/6, 1/6, 1/6, 1/6],\n",
    "                                 [1/10, 1/10, 1/10, 1/10, 1/10, 5/10]])\n",
    "    model.fit(X)\n",
    "    score = model.score(X)\n",
    "    \n",
    "    if model.monitor_.converged:\n",
    "        if score > max_score:\n",
    "            max_score = score\n",
    "            Z = model.predict(X)\n",
    "            transmat = model.transmat_\n",
    "\n",
    "print('Model score: ' + str(max_score) + \"\\n\")\n",
    "print('Most-likely state sequence')\n",
    "print(Z)\n",
    "print(\"\")\n",
    "print('Estimated transition matrix')\n",
    "print(transmat)"
   ]
  },
  {
   "cell_type": "markdown",
   "metadata": {},
   "source": [
    "This time the model needed to estimate the transition matrix based on the X observations. We see that now these probabilities changed from those shown in a), altough the state '0' still has a high probability of transitioning back to itself, while this probility highly decreased for sate '1', which is now more likely to transition to state '0'. We also see that the most-likely state sequence is very close to the one we obtained in a), despite the differences in the estimated transition matrix."
   ]
  },
  {
   "cell_type": "markdown",
   "metadata": {},
   "source": [
    "### c) train the model assuming the emission probability matrix is unknown."
   ]
  },
  {
   "cell_type": "code",
   "execution_count": 20,
   "metadata": {},
   "outputs": [
    {
     "name": "stdout",
     "output_type": "stream",
     "text": [
      "Model score: -106.47857685300349\n",
      "\n",
      "Most-likely state sequence\n",
      "[0 0 0 0 0 0 0 0 0 0 0 0 0 0 0 0 0 0 0 0 0 0 0 0 0 0 0 0 0 0 0 0 0 0 0 0 0\n",
      " 0 0 0 0 0 0 0 0 0 0 0 0 0 0 0 0 0 0 0 0 0 0 0]\n",
      "\n",
      "Estimated emission probabilities\n",
      "[[0.16293934 0.15774316 0.14179289 0.15363352 0.12958657 0.25430452]\n",
      " [0.17366371 0.18341815 0.16540663 0.14317904 0.14036687 0.1939656 ]]\n"
     ]
    }
   ],
   "source": [
    "max_score = float('-inf') #defining a very low score to start\n",
    "\n",
    "#fitting the model 10 times and displaying the results for the one with the highest score\n",
    "for i in range(10):\n",
    "    model = hmm.MultinomialHMM(n_components=2, init_params=\"e\", params =\"e\", n_iter=10000, tol=0.001)\n",
    "    model.startprob_ = np.array([(2/3), (1/3)])\n",
    "    model.transmat_ = np.array([[0.95, 0.05],\n",
    "                                [0.1, 0.9]])\n",
    "    model.fit(X)\n",
    "    score = model.score(X)\n",
    "    if model.monitor_.converged:\n",
    "        if score > max_score:\n",
    "            max_score = score\n",
    "            Z = model.predict(X)\n",
    "            emission = model.emissionprob_\n",
    "\n",
    "print('Model score: ' + str(max_score) + \"\\n\")\n",
    "print('Most-likely state sequence')\n",
    "print(Z)\n",
    "print(\"\")\n",
    "print('Estimated emission probabilities')\n",
    "print(emission)"
   ]
  },
  {
   "cell_type": "markdown",
   "metadata": {},
   "source": [
    "In this exercise we needed to predict the emission probabilities of both dice, both approaching a \"fair\" die scenario. Nonetheless, both dice are slightly loaded in the sense that they have a higher probability of emitting the number 6 (or 5, in the np.array), which is likely the result of the higher number of '6' in the observations. The model appears to have distributed this higher likelihood across both dice instead of having only one of them loaded. Nonetheless, the most-likely state sequence is exactly the same as in a), only displaying the zero state."
   ]
  },
  {
   "cell_type": "markdown",
   "metadata": {},
   "source": [
    "### d) train the model assuming both transition and emission matrices are unkonwn"
   ]
  },
  {
   "cell_type": "code",
   "execution_count": 21,
   "metadata": {},
   "outputs": [
    {
     "name": "stdout",
     "output_type": "stream",
     "text": [
      "Model score: -98.7166603090719\n",
      "\n",
      "Most-likely state sequence\n",
      "[0 1 0 1 0 1 0 1 0 1 0 1 0 1 0 1 1 0 1 0 1 0 1 0 1 0 1 0 1 0 1 0 1 0 1 0 1\n",
      " 1 0 1 0 1 0 1 0 1 0 1 0 1 0 1 0 1 0 1 0 1 0 1]\n",
      "\n",
      "Estimated transition matrix\n",
      "[[1.22856654e-04 9.99877143e-01]\n",
      " [9.14600135e-01 8.53998652e-02]]\n",
      "\n",
      "Estimated emission probabilities\n",
      "[[3.34449950e-02 8.45362631e-02 1.01920662e-01 3.13742172e-01\n",
      "  2.38204859e-01 2.28151049e-01]\n",
      " [2.88707620e-01 2.41904221e-01 1.94044247e-01 1.74362375e-12\n",
      "  3.72632212e-02 2.38080691e-01]]\n"
     ]
    }
   ],
   "source": [
    "max_score = float('-inf') #defining a very low score to start\n",
    "\n",
    "#fitting the model 10 times and displaying the results for the one with the highest score\n",
    "for i in range(10):\n",
    "    model = hmm.MultinomialHMM(n_components=2, init_params=\"et\", params = \"et\", n_iter=10000, tol=0.001)\n",
    "    model.startprob_ = np.array([(2/3), (1/3)])\n",
    "\n",
    "    model.fit(X)\n",
    "    score = model.score(X)\n",
    "    \n",
    "    if model.monitor_.converged:\n",
    "        if score > max_score:\n",
    "            max_score = score\n",
    "            Z = model.predict(X)\n",
    "            transmat = model.transmat_\n",
    "            emission = model.emissionprob_\n",
    "\n",
    "print('Model score: ' + str(max_score) + \"\\n\")\n",
    "print('Most-likely state sequence')\n",
    "print(Z)\n",
    "print(\"\")\n",
    "print('Estimated transition matrix')\n",
    "print(transmat)\n",
    "print(\"\")\n",
    "print('Estimated emission probabilities')\n",
    "print(emission)"
   ]
  },
  {
   "cell_type": "markdown",
   "metadata": {},
   "source": [
    "However, when we need to estimate both the transition matrix and emission probabilities, we see that the model now diverges greatly from the corresponding parametrization in a). This was expected since now we have fewer known parameters, which also results in a most-likely state sequence that highly diverges from the one predicted in a)."
   ]
  },
  {
   "cell_type": "markdown",
   "metadata": {},
   "source": [
    "### e) train the model assuming all the parameters unknown, including the number of states"
   ]
  },
  {
   "cell_type": "markdown",
   "metadata": {},
   "source": [
    "**1 state**"
   ]
  },
  {
   "cell_type": "code",
   "execution_count": 22,
   "metadata": {},
   "outputs": [
    {
     "name": "stdout",
     "output_type": "stream",
     "text": [
      "Model score: -106.47659453334079\n",
      "\n",
      "Most-likely state sequence\n",
      "[0 0 0 0 0 0 0 0 0 0 0 0 0 0 0 0 0 0 0 0 0 0 0 0 0 0 0 0 0 0 0 0 0 0 0 0 0\n",
      " 0 0 0 0 0 0 0 0 0 0 0 0 0 0 0 0 0 0 0 0 0 0 0]\n",
      "\n",
      "Estimated start probabilities\n",
      "[1.]\n",
      "\n",
      "Estimated transition matrix\n",
      "[[1.]]\n",
      "\n",
      "Estimated emission probabilities\n",
      "[[0.16666667 0.16666667 0.15       0.15       0.13333333 0.23333333]]\n"
     ]
    }
   ],
   "source": [
    "max_score = float('-inf') #defining a very low score to start\n",
    "\n",
    "#fitting the model 10 times and displaying the results for the one with the highest score\n",
    "for i in range(10):\n",
    "    model = hmm.MultinomialHMM(n_components=1, init_params=\"est\", params =\"est\", n_iter=10000, tol=0.001)\n",
    "    model.fit(X)\n",
    "    \n",
    "    score = model.score(X)\n",
    "    \n",
    "    if model.monitor_.converged:\n",
    "        if score > max_score:\n",
    "            max_score = score\n",
    "            Z = model.predict(X)\n",
    "            start = model.startprob_\n",
    "            transmat = model.transmat_\n",
    "            emission = model.emissionprob_\n",
    "\n",
    "print('Model score: ' + str(max_score) + \"\\n\")\n",
    "print('Most-likely state sequence')\n",
    "print(Z)\n",
    "print(\"\")\n",
    "print('Estimated start probabilities')\n",
    "print(start)\n",
    "print(\"\")\n",
    "print('Estimated transition matrix')\n",
    "print(transmat)\n",
    "print(\"\")\n",
    "print('Estimated emission probabilities')\n",
    "print(emission)"
   ]
  },
  {
   "cell_type": "markdown",
   "metadata": {},
   "source": [
    "Since now only one state is being used in the model, the most-likely state sequence will be composed of only that state, which also has a start probability of 1. However, we can see that the emission probability of the number '6' is higher than the probabilities for each of the other numbers, reflecting the biased observations which have a higher frequency of the number '6' when compared to each of the other ones. Since we only have 1 state, we cannot make further comparisons with the parameters in a)."
   ]
  },
  {
   "cell_type": "markdown",
   "metadata": {},
   "source": [
    "**2 states**"
   ]
  },
  {
   "cell_type": "code",
   "execution_count": 23,
   "metadata": {},
   "outputs": [
    {
     "name": "stdout",
     "output_type": "stream",
     "text": [
      "Model score: -99.78525156155565\n",
      "\n",
      "Most-likely state sequence\n",
      "[0 1 0 1 0 1 0 1 0 1 0 1 1 1 0 1 1 0 1 0 1 0 1 0 1 0 1 0 1 0 1 0 1 0 1 0 1\n",
      " 1 0 1 1 0 1 1 0 1 0 1 0 1 0 1 0 1 1 0 1 1 0 1]\n",
      "\n",
      "Estimated start probabilities\n",
      "[1.00000000e+00 1.56268625e-29]\n",
      "\n",
      "Estimated transition matrix\n",
      "[[8.92953031e-05 9.99910705e-01]\n",
      " [6.97133003e-01 3.02866997e-01]]\n",
      "\n",
      "Estimated emission probabilities\n",
      "[[1.65415671e-03 1.39349401e-01 1.41222087e-17 3.62522069e-01\n",
      "  2.67440195e-01 2.29034179e-01]\n",
      " [2.83133990e-01 1.85947440e-01 2.55871358e-01 4.70077916e-26\n",
      "  3.86794964e-02 2.36367716e-01]]\n"
     ]
    }
   ],
   "source": [
    "max_score = float('-inf') #defining a very low score to start\n",
    "\n",
    "#fitting the model 10 times and displaying the results for the one with the highest score\n",
    "for i in range(10):\n",
    "    model = hmm.MultinomialHMM(n_components=2, init_params=\"est\", params = \"est\", n_iter=10000, tol=0.001)\n",
    "    model.fit(X)\n",
    "    \n",
    "    score = model.score(X)\n",
    "    if model.monitor_.converged:\n",
    "        if score > max_score:\n",
    "            max_score = score\n",
    "            Z = model.predict(X)\n",
    "            start = model.startprob_\n",
    "            transmat = model.transmat_\n",
    "            emission = model.emissionprob_\n",
    "\n",
    "print('Model score: ' + str(max_score) + \"\\n\")\n",
    "print('Most-likely state sequence')\n",
    "print(Z)\n",
    "print(\"\")\n",
    "print('Estimated start probabilities')\n",
    "print(start)\n",
    "print(\"\")\n",
    "print('Estimated transition matrix')\n",
    "print(transmat)\n",
    "print(\"\")\n",
    "print('Estimated emission probabilities')\n",
    "print(emission)"
   ]
  },
  {
   "cell_type": "markdown",
   "metadata": {},
   "source": [
    "With 2 states, we can see that there is a high divergence of the values of all parameters when compared to those in a). This is a similar scenario to what was observed in d), when two parameters were unknown, but now all three parameters need to be estimated. As a result, the most-likely state sequence also differs greatly from the one predicted in a). We can also see that the score improved from the previous scenario, when only one state was being used. \n",
    "\n",
    "Next, we will do similar fits with 3 and 4 states:"
   ]
  },
  {
   "cell_type": "markdown",
   "metadata": {},
   "source": [
    "**3 states**"
   ]
  },
  {
   "cell_type": "code",
   "execution_count": 24,
   "metadata": {},
   "outputs": [
    {
     "name": "stdout",
     "output_type": "stream",
     "text": [
      "Model score: -95.11939260258191\n",
      "\n",
      "Most-likely state sequence\n",
      "[2 0 1 0 1 0 2 0 1 0 1 2 0 0 1 2 0 1 0 1 0 2 0 1 0 1 0 1 0 1 2 1 0 1 0 1 2\n",
      " 0 1 2 0 2 0 0 1 0 1 2 1 0 1 0 1 2 0 1 0 2 1 2]\n",
      "\n",
      "Estimated start probabilities\n",
      "[2.09634252e-36 5.72588387e-29 1.00000000e+00]\n",
      "\n",
      "Estimated transition matrix\n",
      "[[1.24066835e-01 6.50756939e-01 2.25176226e-01]\n",
      " [5.96234395e-01 3.54636336e-16 4.03765605e-01]\n",
      " [7.50970012e-01 2.49015795e-01 1.41932831e-05]]\n",
      "\n",
      "Estimated emission probabilities\n",
      "[[3.91523999e-01 6.36506301e-05 3.52372462e-01 3.65823136e-17\n",
      "  4.30948009e-02 2.12945087e-01]\n",
      " [1.23399130e-06 1.23094573e-07 1.69207402e-13 4.54137150e-01\n",
      "  3.48136945e-01 1.97724548e-01]\n",
      " [2.02788767e-09 6.82900275e-01 7.58174399e-24 1.64620826e-12\n",
      "  1.74607450e-09 3.17099721e-01]]\n"
     ]
    }
   ],
   "source": [
    "max_score = float('-inf') #defining a very low score to start\n",
    "\n",
    "#fitting the model 10 times and displaying the results for the one with the highest score\n",
    "for i in range(10):\n",
    "    model = hmm.MultinomialHMM(n_components=3, init_params=\"est\", params =\"est\", n_iter=10000, tol=0.001)\n",
    "    model.fit(X)\n",
    "    \n",
    "    score = model.score(X)\n",
    "    \n",
    "    if model.monitor_.converged:\n",
    "        if score > max_score:\n",
    "            max_score = score\n",
    "            Z = model.predict(X)\n",
    "            start = model.startprob_\n",
    "            transmat = model.transmat_\n",
    "            emission = model.emissionprob_\n",
    "\n",
    "print('Model score: ' + str(max_score) + \"\\n\")\n",
    "print('Most-likely state sequence')\n",
    "print(Z)\n",
    "print(\"\")\n",
    "print('Estimated start probabilities')\n",
    "print(start)\n",
    "print(\"\")\n",
    "print('Estimated transition matrix')\n",
    "print(transmat)\n",
    "print(\"\")\n",
    "print('Estimated emission probabilities')\n",
    "print(emission)"
   ]
  },
  {
   "cell_type": "markdown",
   "metadata": {},
   "source": [
    "**4 states**"
   ]
  },
  {
   "cell_type": "code",
   "execution_count": 25,
   "metadata": {},
   "outputs": [
    {
     "name": "stdout",
     "output_type": "stream",
     "text": [
      "Model score: -89.86192657636208\n",
      "\n",
      "Most-likely state sequence\n",
      "[2 0 3 0 2 1 3 0 2 0 2 1 3 0 2 1 1 3 0 2 1 3 0 3 0 2 0 2 1 3 0 2 0 2 2 2 1\n",
      " 1 3 1 1 1 1 0 2 0 3 1 3 0 3 0 2 2 0 2 1 1 3 0]\n",
      "\n",
      "Estimated start probabilities\n",
      "[3.74943218e-194 0.00000000e+000 1.00000000e+000 1.30884814e-124]\n",
      "\n",
      "Estimated transition matrix\n",
      "[[1.54594372e-10 3.73268691e-30 7.08332252e-01 2.91667748e-01]\n",
      " [1.18223409e-01 4.29530060e-01 7.51396162e-24 4.52246531e-01]\n",
      " [3.57973821e-01 4.13641839e-01 2.28384340e-01 6.85146748e-28]\n",
      " [8.49288708e-01 1.50711292e-01 8.94123106e-20 3.91454840e-47]]\n",
      "\n",
      "Estimated emission probabilities\n",
      "[[5.16715956e-01 8.54942769e-02 6.97880299e-02 5.10071786e-62\n",
      "  1.88490612e-09 3.28001735e-01]\n",
      " [2.43547603e-08 4.75747843e-01 5.24252132e-01 2.62362763e-30\n",
      "  3.75328800e-21 2.24909761e-10]\n",
      " [6.28525526e-24 3.01399549e-39 1.88550550e-21 1.79136997e-12\n",
      "  4.90382466e-01 5.09617534e-01]\n",
      " [9.01026835e-02 1.26070992e-01 1.26104009e-05 7.83430861e-01\n",
      "  3.82126029e-04 7.27371458e-07]]\n"
     ]
    }
   ],
   "source": [
    "max_score = float('-inf') #defining a very low score to start\n",
    "\n",
    "#fitting the model 10 times and displaying the results for the one with the highest score\n",
    "for i in range(10):\n",
    "    model = hmm.MultinomialHMM(n_components=4, init_params=\"est\", params =\"est\", n_iter=10000, tol=0.001)\n",
    "    model.fit(X)\n",
    "    \n",
    "    score = model.score(X)\n",
    "    \n",
    "    if model.monitor_.converged:\n",
    "        if score > max_score:\n",
    "            max_score = score\n",
    "            Z = model.predict(X)\n",
    "            start = model.startprob_\n",
    "            transmat = model.transmat_\n",
    "            emission = model.emissionprob_\n",
    "\n",
    "print('Model score: ' + str(max_score) + \"\\n\")\n",
    "print('Most-likely state sequence')\n",
    "print(Z)\n",
    "print(\"\")\n",
    "print('Estimated start probabilities')\n",
    "print(start)\n",
    "print(\"\")\n",
    "print('Estimated transition matrix')\n",
    "print(transmat)\n",
    "print(\"\")\n",
    "print('Estimated emission probabilities')\n",
    "print(emission)"
   ]
  },
  {
   "cell_type": "markdown",
   "metadata": {},
   "source": [
    "As we can see, by increasing the number of states the scored improved, as more states with different starting and emission probabilities were being added. In all cases of this part of the exercise, we can see that there was always one state with a start probability close to 1 (in the first fit it was exactly 1, but this was due to the model only having one state). The transition matrices also present states with very low transition probability (close to 0) implying that the transition between those states is highly unlikely, while favoring other transitions. Like what we discussed in the first fit of this part of the exercise, no comparisons can be made between these models and a), as they have a different number of states and, therefore, their parameters cannot be directly compared."
   ]
  },
  {
   "cell_type": "markdown",
   "metadata": {},
   "source": [
    "### 2.2 Conclusion"
   ]
  },
  {
   "cell_type": "markdown",
   "metadata": {},
   "source": [
    "Overall, we observed that when fitting the model with either the transition matrix and emission probabilities unknown, the model was able to produce estimates that were very similar to the parameters defined in a) or, at least, displayed an equivalent or very similar sequence of states. However, when both these parameters were unknown, the model became less robust and the estimates started to diverge more from the parameters in a), also leading to a most-likely predicted state that was very different. When all parameters were unknown, for the same number of states (second exercise of e)), robustness of the model decreased further, with parameter estimates and most-likely state sequence diverging even more from the parameters of a). By having more samples from a), it is possible that these parameter estimates would be closer to the a) parameters, but they would still diverge significantly if two or more parameter were unknown. \n",
    "\n",
    "When all parameters were unknown (e)) and the number of states varied, we observed that the model assigned a starting probability very close to 1 to one of the sates (or exactly 1 when only one state was defined). As the number of states increased, so did the score, as we observe that each of the states becomes more biased towards some emissions (observed numbers), while having probabilities close to 0 for other emissions. In theory, this implies that certain states are most likely to produce a specific observation than other ones, which may increase the conditional probability of that observation for that given state (as an extreme example, if a die only returned the number 6 and all other dice almost never returned this number, the probability of a '6' observation having originated from that die would be very high). To assess this hypothesis we could increase the number of samples from the model a) (e.g., 1000 samples) and fit a new model similar to the one we used in e) with even more states and assess the different emission probabilities, most-likely state sequence, and model score."
   ]
  }
 ],
 "metadata": {
  "kernelspec": {
   "display_name": "Python 3",
   "language": "python",
   "name": "python3"
  },
  "language_info": {
   "codemirror_mode": {
    "name": "ipython",
    "version": 3
   },
   "file_extension": ".py",
   "mimetype": "text/x-python",
   "name": "python",
   "nbconvert_exporter": "python",
   "pygments_lexer": "ipython3",
   "version": "3.8.3"
  }
 },
 "nbformat": 4,
 "nbformat_minor": 4
}
