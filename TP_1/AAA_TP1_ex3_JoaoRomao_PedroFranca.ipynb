{
 "cells": [
  {
   "cell_type": "markdown",
   "metadata": {},
   "source": [
    "# Aprendizagem Automática Avançada\n",
    "## TP1 - Problema 3\n",
    "João Romão - 55760,\n",
    "Pedro França - 55848"
   ]
  },
  {
   "cell_type": "code",
   "execution_count": 1,
   "metadata": {},
   "outputs": [],
   "source": [
    "import pandas as pd\n",
    "import numpy as np\n",
    "import sklearn\n",
    "import math\n",
    "from numpy import random"
   ]
  },
  {
   "cell_type": "markdown",
   "metadata": {},
   "source": [
    "## Dataset Generation"
   ]
  },
  {
   "cell_type": "markdown",
   "metadata": {},
   "source": [
    "Generating 200 points of one period (from 0 to 2π) of the sin function."
   ]
  },
  {
   "cell_type": "code",
   "execution_count": 2,
   "metadata": {},
   "outputs": [
    {
     "data": {
      "text/html": [
       "<div>\n",
       "<style scoped>\n",
       "    .dataframe tbody tr th:only-of-type {\n",
       "        vertical-align: middle;\n",
       "    }\n",
       "\n",
       "    .dataframe tbody tr th {\n",
       "        vertical-align: top;\n",
       "    }\n",
       "\n",
       "    .dataframe thead th {\n",
       "        text-align: right;\n",
       "    }\n",
       "</style>\n",
       "<table border=\"1\" class=\"dataframe\">\n",
       "  <thead>\n",
       "    <tr style=\"text-align: right;\">\n",
       "      <th></th>\n",
       "      <th>x</th>\n",
       "      <th>y</th>\n",
       "    </tr>\n",
       "  </thead>\n",
       "  <tbody>\n",
       "    <tr>\n",
       "      <th>0</th>\n",
       "      <td>3.958407</td>\n",
       "      <td>-0.728969</td>\n",
       "    </tr>\n",
       "    <tr>\n",
       "      <th>1</th>\n",
       "      <td>5.937610</td>\n",
       "      <td>-0.338738</td>\n",
       "    </tr>\n",
       "    <tr>\n",
       "      <th>2</th>\n",
       "      <td>5.686283</td>\n",
       "      <td>-0.562083</td>\n",
       "    </tr>\n",
       "    <tr>\n",
       "      <th>3</th>\n",
       "      <td>0.502655</td>\n",
       "      <td>0.481754</td>\n",
       "    </tr>\n",
       "    <tr>\n",
       "      <th>4</th>\n",
       "      <td>2.387610</td>\n",
       "      <td>0.684547</td>\n",
       "    </tr>\n",
       "    <tr>\n",
       "      <th>...</th>\n",
       "      <td>...</td>\n",
       "      <td>...</td>\n",
       "    </tr>\n",
       "    <tr>\n",
       "      <th>195</th>\n",
       "      <td>1.602212</td>\n",
       "      <td>0.999507</td>\n",
       "    </tr>\n",
       "    <tr>\n",
       "      <th>196</th>\n",
       "      <td>2.796017</td>\n",
       "      <td>0.338738</td>\n",
       "    </tr>\n",
       "    <tr>\n",
       "      <th>197</th>\n",
       "      <td>4.398230</td>\n",
       "      <td>-0.951057</td>\n",
       "    </tr>\n",
       "    <tr>\n",
       "      <th>198</th>\n",
       "      <td>5.152212</td>\n",
       "      <td>-0.904827</td>\n",
       "    </tr>\n",
       "    <tr>\n",
       "      <th>199</th>\n",
       "      <td>0.973894</td>\n",
       "      <td>0.827081</td>\n",
       "    </tr>\n",
       "  </tbody>\n",
       "</table>\n",
       "<p>200 rows × 2 columns</p>\n",
       "</div>"
      ],
      "text/plain": [
       "            x         y\n",
       "0    3.958407 -0.728969\n",
       "1    5.937610 -0.338738\n",
       "2    5.686283 -0.562083\n",
       "3    0.502655  0.481754\n",
       "4    2.387610  0.684547\n",
       "..        ...       ...\n",
       "195  1.602212  0.999507\n",
       "196  2.796017  0.338738\n",
       "197  4.398230 -0.951057\n",
       "198  5.152212 -0.904827\n",
       "199  0.973894  0.827081\n",
       "\n",
       "[200 rows x 2 columns]"
      ]
     },
     "execution_count": 2,
     "metadata": {},
     "output_type": "execute_result"
    }
   ],
   "source": [
    "i=0\n",
    "x=[]\n",
    "y=[]\n",
    "\n",
    "while (i < 200):\n",
    "    a = (random.randint(0, 200)/100)*math.pi\n",
    "    b = math.sin(a)\n",
    "    x.append(a)\n",
    "    y.append(b)\n",
    "    i=i+1\n",
    "    \n",
    "d = {'x': x, 'y': y}\n",
    "df = pd.DataFrame(data=d)\n",
    "df"
   ]
  },
  {
   "cell_type": "markdown",
   "metadata": {},
   "source": [
    "By plotting the data, we observe it follows the curve of the sin function, as expected."
   ]
  },
  {
   "cell_type": "code",
   "execution_count": 3,
   "metadata": {},
   "outputs": [
    {
     "data": {
      "image/png": "[encoded data removed]",
      "text/plain": [
       "<Figure size 432x288 with 1 Axes>"
      ]
     },
     "metadata": {
      "needs_background": "light"
     },
     "output_type": "display_data"
    }
   ],
   "source": [
    "import matplotlib.pyplot as plt\n",
    "plt.scatter(df[\"x\"],df[\"y\"])\n",
    "plt.show()"
   ]
  },
  {
   "cell_type": "markdown",
   "metadata": {},
   "source": [
    "## Training the neural network model"
   ]
  },
  {
   "cell_type": "markdown",
   "metadata": {},
   "source": [
    "We chose the MLPRegressor from sklearn.neural_network, which we trained with 10% of the data.\n",
    "\n",
    "When fitting the model, we started with the default parameters of the MLPRegressor and then, to improve the score, we changed those we considered to be the ones with the most impact in the results of our neural network, namely \"activation\", \"solver\", and \"hidden_layer_sizes\". We iteratively evaluated the plot of the results and scores for both the training and testing datasets (see the \"Neural networks results\" section), to assess if the model was not being overfitted.\n",
    "\n",
    "After testing the different parameters of the algorithm, we chose the logistic activation sigmoid function (activation = \"logistic\"). This one and the hyperbolic tan activation function (tanh) were both good and similar in predicting the correct results. \n",
    "\n",
    "We conducted a similar approach for choosing the solver parameter. We searched and tested the 3 different options (lbfgs, sgd, adam) and found that the solver lbfgs produced the best results for this problem. This solver is commonly used on small datasets, becoming advantageous due to its faster convergence and a better performance in these cases.\n",
    "\n",
    "To improve the robustness of the our predictions, we changed our hidden layer number to 3. Less than that, the predictions produced by the model were less acurate, with lower scores. For higher hidden layer numbers, the score did not improve, so we did not increase this number further."
   ]
  },
  {
   "cell_type": "code",
   "execution_count": 4,
   "metadata": {},
   "outputs": [],
   "source": [
    "#separating the x and y data into df_x and df_y, respectively, and reshaping\n",
    "df_x = df[\"x\"]\n",
    "df_y = df[\"y\"].ravel()\n",
    "\n",
    "df_x = df_x.values.reshape(-1,1)"
   ]
  },
  {
   "cell_type": "code",
   "execution_count": 5,
   "metadata": {},
   "outputs": [],
   "source": [
    "#separating data into train and test subsets\n",
    "from sklearn.model_selection import train_test_split\n",
    "x_train, x_test , y_train , y_test = train_test_split(df_x, df_y, test_size = 0.90 , random_state =4)"
   ]
  },
  {
   "cell_type": "code",
   "execution_count": 6,
   "metadata": {
    "scrolled": true
   },
   "outputs": [
    {
     "data": {
      "text/plain": [
       "MLPRegressor(activation='logistic', alpha=0.0001, batch_size='auto', beta_1=0.9,\n",
       "             beta_2=0.999, early_stopping=False, epsilon=1e-08,\n",
       "             hidden_layer_sizes=3, learning_rate='constant',\n",
       "             learning_rate_init=0.001, max_fun=15000, max_iter=300,\n",
       "             momentum=0.9, n_iter_no_change=10, nesterovs_momentum=True,\n",
       "             power_t=0.5, random_state=1, shuffle=True, solver='lbfgs',\n",
       "             tol=0.0001, validation_fraction=0.1, verbose=False,\n",
       "             warm_start=False)"
      ]
     },
     "execution_count": 6,
     "metadata": {},
     "output_type": "execute_result"
    }
   ],
   "source": [
    "#fitting the MLP Regressor\n",
    "from sklearn.neural_network import MLPRegressor\n",
    "nn = MLPRegressor(activation = \"logistic\",solver='lbfgs', hidden_layer_sizes = 3 , random_state= 1, max_iter = 300)\n",
    "nn.fit(x_train, y_train)"
   ]
  },
  {
   "cell_type": "markdown",
   "metadata": {},
   "source": [
    "## Neural network results"
   ]
  },
  {
   "cell_type": "markdown",
   "metadata": {},
   "source": [
    "Plotting the training data, MLP Regressor results, and checking the R² scores of the model."
   ]
  },
  {
   "cell_type": "code",
   "execution_count": 7,
   "metadata": {},
   "outputs": [
    {
     "data": {
      "image/png": "[encoded data removed]",
      "text/plain": [
       "<Figure size 432x288 with 1 Axes>"
      ]
     },
     "metadata": {
      "needs_background": "light"
     },
     "output_type": "display_data"
    },
    {
     "name": "stdout",
     "output_type": "stream",
     "text": [
      "Score with training data: 0.9998884972749382\n",
      "Score with testing data: 0.9997923237875543\n"
     ]
    }
   ],
   "source": [
    "#calculating y_pred for plotting the results of the \n",
    "y_pred = nn.predict(x_test)\n",
    "\n",
    "plt.scatter(x_test,y_pred, label = \"NN results\") # results of our model\n",
    "plt.scatter(x_train,y_train, label = \"Training points\") #original data, used for training\n",
    "\n",
    "plt.legend()\n",
    "plt.show()\n",
    "\n",
    "print(\"Score with training data: \" + str(nn.score(x_train, y_train)))\n",
    "print(\"Score with testing data: \" + str(nn.score(x_test, y_test)))"
   ]
  },
  {
   "cell_type": "markdown",
   "metadata": {},
   "source": [
    "By inspecting the plot, it is possible to see both the data used to train the model (10% of the dataset, 20 points), in orange, and the points that resulted from the MLP Regressor model (90% of the dataset, 180 points), in blue. As we can observe from the plot and scores, the model can generate highly accurate predictions for the data even when it is trained with a small portion of the dataset (10%), which illustrates the power of this supervised method. We could still obtain very good results using 5% of the data for training but due to the reduction of the score, albeit small, we decided to maintain the training of the model with 10% of the data."
   ]
  }
 ],
 "metadata": {
  "kernelspec": {
   "display_name": "Python 3",
   "language": "python",
   "name": "python3"
  },
  "language_info": {
   "codemirror_mode": {
    "name": "ipython",
    "version": 3
   },
   "file_extension": ".py",
   "mimetype": "text/x-python",
   "name": "python",
   "nbconvert_exporter": "python",
   "pygments_lexer": "ipython3",
   "version": "3.7.6"
  }
 },
 "nbformat": 4,
 "nbformat_minor": 4
}
