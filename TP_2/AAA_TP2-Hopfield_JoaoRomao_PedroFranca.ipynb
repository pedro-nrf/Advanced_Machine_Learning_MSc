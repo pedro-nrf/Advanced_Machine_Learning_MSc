{
 "cells": [
  {
   "cell_type": "markdown",
   "metadata": {},
   "source": [
    "# Aprendizagem Automática Avançada\n",
    "## TP2 - Exercise 2\n",
    "João Romão - 55760,\n",
    "Pedro França - 55848"
   ]
  },
  {
   "cell_type": "code",
   "execution_count": 1,
   "metadata": {},
   "outputs": [
    {
     "name": "stderr",
     "output_type": "stream",
     "text": [
      "C:\\Users\\User\\anaconda3\\lib\\site-packages\\tensorflow\\python\\framework\\dtypes.py:526: FutureWarning: Passing (type, 1) or '1type' as a synonym of type is deprecated; in a future version of numpy, it will be understood as (type, (1,)) / '(1,)type'.\n",
      "  _np_qint8 = np.dtype([(\"qint8\", np.int8, 1)])\n",
      "C:\\Users\\User\\anaconda3\\lib\\site-packages\\tensorflow\\python\\framework\\dtypes.py:527: FutureWarning: Passing (type, 1) or '1type' as a synonym of type is deprecated; in a future version of numpy, it will be understood as (type, (1,)) / '(1,)type'.\n",
      "  _np_quint8 = np.dtype([(\"quint8\", np.uint8, 1)])\n",
      "C:\\Users\\User\\anaconda3\\lib\\site-packages\\tensorflow\\python\\framework\\dtypes.py:528: FutureWarning: Passing (type, 1) or '1type' as a synonym of type is deprecated; in a future version of numpy, it will be understood as (type, (1,)) / '(1,)type'.\n",
      "  _np_qint16 = np.dtype([(\"qint16\", np.int16, 1)])\n",
      "C:\\Users\\User\\anaconda3\\lib\\site-packages\\tensorflow\\python\\framework\\dtypes.py:529: FutureWarning: Passing (type, 1) or '1type' as a synonym of type is deprecated; in a future version of numpy, it will be understood as (type, (1,)) / '(1,)type'.\n",
      "  _np_quint16 = np.dtype([(\"quint16\", np.uint16, 1)])\n",
      "C:\\Users\\User\\anaconda3\\lib\\site-packages\\tensorflow\\python\\framework\\dtypes.py:530: FutureWarning: Passing (type, 1) or '1type' as a synonym of type is deprecated; in a future version of numpy, it will be understood as (type, (1,)) / '(1,)type'.\n",
      "  _np_qint32 = np.dtype([(\"qint32\", np.int32, 1)])\n",
      "C:\\Users\\User\\anaconda3\\lib\\site-packages\\tensorflow\\python\\framework\\dtypes.py:535: FutureWarning: Passing (type, 1) or '1type' as a synonym of type is deprecated; in a future version of numpy, it will be understood as (type, (1,)) / '(1,)type'.\n",
      "  np_resource = np.dtype([(\"resource\", np.ubyte, 1)])\n"
     ]
    }
   ],
   "source": [
    "import numpy as np\n",
    "from neupy import algorithms\n",
    "\n",
    "#to hide a warning message related to neupy\n",
    "import warnings\n",
    "warnings.filterwarnings('ignore')"
   ]
  },
  {
   "cell_type": "markdown",
   "metadata": {},
   "source": [
    "### 1.1 Defining the patterns"
   ]
  },
  {
   "cell_type": "markdown",
   "metadata": {},
   "source": [
    "As a first step in this problem, we will use the same function presented in the exameple for representing the images we define in our matrices, using asterisks (\\*) instead of ones (1).\n",
    "As for our images, we chose to represent the letter 'C', an arrow pointing up ('↑'), and the number '4', which can also be observed using the draw_bin_image function."
   ]
  },
  {
   "cell_type": "code",
   "execution_count": 2,
   "metadata": {},
   "outputs": [],
   "source": [
    "def draw_bin_image(image_matrix):\n",
    "    for row in image_matrix.tolist():\n",
    "        print('| ' + ' '.join(' *'[val] for val in row))"
   ]
  },
  {
   "cell_type": "code",
   "execution_count": 3,
   "metadata": {},
   "outputs": [],
   "source": [
    "c = np.matrix([\n",
    "    0, 1, 1, 1, 0,\n",
    "    1, 0, 0, 0, 1,\n",
    "    1, 0, 0, 0, 0,\n",
    "    1, 0, 0, 0, 0,\n",
    "    1, 0, 0, 0, 1,\n",
    "    0, 1, 1, 1, 0\n",
    "    ])\n",
    "\n",
    "arrow = np.matrix([\n",
    "    0, 0, 1, 0, 0,\n",
    "    0, 1, 1, 1, 0,\n",
    "    1, 0, 1, 0, 1,\n",
    "    0, 0, 1, 0, 0,\n",
    "    0, 0, 1, 0, 0,\n",
    "    0, 0, 1, 0, 0\n",
    "    ])\n",
    "\n",
    "four = np.matrix([\n",
    "    0, 0, 0, 1, 0,\n",
    "    0, 0, 1, 1, 0,\n",
    "    0, 1, 0, 1, 0,\n",
    "    1, 1, 1, 1, 1,\n",
    "    0, 0, 0, 1, 0,\n",
    "    0, 0, 0, 1, 0,\n",
    "    ])"
   ]
  },
  {
   "cell_type": "code",
   "execution_count": 4,
   "metadata": {},
   "outputs": [
    {
     "name": "stdout",
     "output_type": "stream",
     "text": [
      "|   * * *  \n",
      "| *       *\n",
      "| *        \n",
      "| *        \n",
      "| *       *\n",
      "|   * * *  \n",
      "\n",
      "\n",
      "|     *    \n",
      "|   * * *  \n",
      "| *   *   *\n",
      "|     *    \n",
      "|     *    \n",
      "|     *    \n",
      "\n",
      "\n",
      "|       *  \n",
      "|     * *  \n",
      "|   *   *  \n",
      "| * * * * *\n",
      "|       *  \n",
      "|       *  \n"
     ]
    }
   ],
   "source": [
    "draw_bin_image(c.reshape((6, 5)))\n",
    "print('\\n')\n",
    "draw_bin_image(arrow.reshape((6, 5)))\n",
    "print('\\n')\n",
    "draw_bin_image(four.reshape((6, 5)))"
   ]
  },
  {
   "cell_type": "markdown",
   "metadata": {},
   "source": [
    "### 1.2 Training the Network"
   ]
  },
  {
   "cell_type": "markdown",
   "metadata": {},
   "source": [
    "Next, we used these patterns to train a Discrete Hopfield Network, so it is able to recognize and reconstitute them from partial or shuffled variations that are used as input. Just as in the example, we trained our network using a **synchronous** pattern recovery mode (mode = 'sync'). This will not affect the training step, but will impact the retrieval of the patterns for memory in the next sections. For this reason, it can be changed at any time after training.\n",
    "\n",
    "For a general understanding, synchronous mode allows recall of memories from a given input (can be a broken or suffled pattern in this exercise) by multiplying all the neurons of said input with the Weight Matrix obtained through training, generating an output that will, hopefully, be the one of the patterns the model was trained on. In the asynchronous mode, neurons are updated one at a time, with the new output serving as the input for the next iterations (delayed feedback), for a n_number of iterations. This allows the output to sequentially approach a know memory. The advantages and disadvantages of each recall mode will be discussed at the end of this report, as we find it is more effective to interpret our results in this manner. So, for now, we will start by using the synchronous mode, as it is more simple."
   ]
  },
  {
   "cell_type": "code",
   "execution_count": 5,
   "metadata": {},
   "outputs": [],
   "source": [
    "data = np.concatenate([c, arrow, four], axis=0)\n",
    "\n",
    "dhnet = algorithms.DiscreteHopfieldNetwork(mode='sync')\n",
    "dhnet.train(data)"
   ]
  },
  {
   "cell_type": "markdown",
   "metadata": {},
   "source": [
    "### 1.3. Broken patterns"
   ]
  },
  {
   "cell_type": "markdown",
   "metadata": {},
   "source": [
    "### 1.3.1 Broken pattern creation"
   ]
  },
  {
   "cell_type": "markdown",
   "metadata": {},
   "source": [
    "For the broken patterns, we removed four \"ones\" from each of our patterns, so they would not be recognizable. In other words, the patterns bellow are our new inputs that will be predicted using our trained net."
   ]
  },
  {
   "cell_type": "code",
   "execution_count": 6,
   "metadata": {},
   "outputs": [],
   "source": [
    "c_broken = np.matrix([\n",
    "    0, 1, 1, 1, 0,\n",
    "    0, 0, 0, 0, 0,\n",
    "    0, 0, 0, 0, 0,\n",
    "    1, 0, 0, 0, 0,\n",
    "    1, 0, 0, 0, 1,\n",
    "    0, 1, 0, 1, 0\n",
    "    ])\n",
    "\n",
    "arrow_broken = np.matrix([\n",
    "    0, 0, 0, 0, 0,\n",
    "    0, 1, 1, 0, 0,\n",
    "    0, 0, 1, 0, 1,\n",
    "    0, 0, 1, 0, 0,\n",
    "    0, 0, 0, 0, 0,\n",
    "    0, 0, 1, 0, 0\n",
    "    ])\n",
    "\n",
    "four_broken = np.matrix([\n",
    "    0, 0, 0, 0, 0,\n",
    "    0, 0, 1, 1, 0,\n",
    "    0, 1, 0, 1, 0,\n",
    "    1, 1, 0, 0, 1,\n",
    "    0, 0, 0, 1, 0,\n",
    "    0, 0, 0, 0, 0,\n",
    "    ])"
   ]
  },
  {
   "cell_type": "code",
   "execution_count": 7,
   "metadata": {},
   "outputs": [
    {
     "name": "stdout",
     "output_type": "stream",
     "text": [
      "|   * * *  \n",
      "|          \n",
      "|          \n",
      "| *        \n",
      "| *       *\n",
      "|   *   *  \n",
      "\n",
      "\n",
      "|          \n",
      "|   * *    \n",
      "|     *   *\n",
      "|     *    \n",
      "|          \n",
      "|     *    \n",
      "\n",
      "\n",
      "|          \n",
      "|     * *  \n",
      "|   *   *  \n",
      "| * *     *\n",
      "|       *  \n",
      "|          \n"
     ]
    }
   ],
   "source": [
    "draw_bin_image(c_broken.reshape((6, 5)))\n",
    "print('\\n')\n",
    "draw_bin_image(arrow_broken.reshape((6, 5)))\n",
    "print('\\n')\n",
    "draw_bin_image(four_broken.reshape((6, 5)))"
   ]
  },
  {
   "cell_type": "markdown",
   "metadata": {},
   "source": [
    "### 1.3.2 Broken pattern prediction (synchronous)"
   ]
  },
  {
   "cell_type": "markdown",
   "metadata": {},
   "source": [
    "We used our trained network to predict the original patterns from memory. All three input patterns were successfully recovered, as displayed bellow:"
   ]
  },
  {
   "cell_type": "code",
   "execution_count": 8,
   "metadata": {},
   "outputs": [
    {
     "name": "stdout",
     "output_type": "stream",
     "text": [
      "|   * * *  \n",
      "| *       *\n",
      "| *        \n",
      "| *        \n",
      "| *       *\n",
      "|   * * *  \n"
     ]
    }
   ],
   "source": [
    "result = dhnet.predict(c_broken)\n",
    "draw_bin_image(result.reshape((6, 5)))"
   ]
  },
  {
   "cell_type": "code",
   "execution_count": 9,
   "metadata": {},
   "outputs": [
    {
     "name": "stdout",
     "output_type": "stream",
     "text": [
      "|     *    \n",
      "|   * * *  \n",
      "| *   *   *\n",
      "|     *    \n",
      "|     *    \n",
      "|     *    \n"
     ]
    }
   ],
   "source": [
    "result = dhnet.predict(arrow_broken)\n",
    "draw_bin_image(result.reshape((6, 5)))"
   ]
  },
  {
   "cell_type": "code",
   "execution_count": 10,
   "metadata": {
    "scrolled": true
   },
   "outputs": [
    {
     "name": "stdout",
     "output_type": "stream",
     "text": [
      "|       *  \n",
      "|     * *  \n",
      "|   *   *  \n",
      "| * * * * *\n",
      "|       *  \n",
      "|       *  \n"
     ]
    }
   ],
   "source": [
    "result = dhnet.predict(four_broken)\n",
    "draw_bin_image(result.reshape((6, 5)))"
   ]
  },
  {
   "cell_type": "markdown",
   "metadata": {},
   "source": [
    "### 1.4 Suffled patterns"
   ]
  },
  {
   "cell_type": "markdown",
   "metadata": {},
   "source": [
    "### 1.4.1 Shuffled pattern creation"
   ]
  },
  {
   "cell_type": "markdown",
   "metadata": {},
   "source": [
    "For the second part of the exercise, we tested if the network was able to recall a suffled version of the patterns, where four \"ones\" were moved from their original positions in the input matrix."
   ]
  },
  {
   "cell_type": "code",
   "execution_count": 11,
   "metadata": {},
   "outputs": [],
   "source": [
    "c_shuffle = np.matrix([\n",
    "    0, 1, 1, 1, 0,\n",
    "    0, 0, 1, 0, 0,\n",
    "    0, 1, 0, 0, 1,\n",
    "    1, 0, 0, 0, 1,\n",
    "    1, 0, 0, 0, 1,\n",
    "    0, 1, 0, 1, 0\n",
    "    ])\n",
    "\n",
    "arrow_shuffle = np.matrix([\n",
    "    0, 0, 0, 0, 0,\n",
    "    0, 1, 1, 0, 0,\n",
    "    0, 0, 1, 0, 1,\n",
    "    0, 0, 1, 1, 1,\n",
    "    1, 1, 0, 0, 0,\n",
    "    0, 0, 1, 0, 0\n",
    "    ])\n",
    "\n",
    "four_shuffle = np.matrix([\n",
    "    0, 0, 0, 0, 1,\n",
    "    0, 0, 1, 1, 1,\n",
    "    0, 1, 0, 1, 0,\n",
    "    1, 1, 0, 0, 1,\n",
    "    1, 0, 0, 1, 0,\n",
    "    1, 0, 0, 0, 0,\n",
    "    ])"
   ]
  },
  {
   "cell_type": "code",
   "execution_count": 12,
   "metadata": {},
   "outputs": [
    {
     "name": "stdout",
     "output_type": "stream",
     "text": [
      "|   * * *  \n",
      "|     *    \n",
      "|   *     *\n",
      "| *       *\n",
      "| *       *\n",
      "|   *   *  \n",
      "\n",
      "\n",
      "|          \n",
      "|   * *    \n",
      "|     *   *\n",
      "|     * * *\n",
      "| * *      \n",
      "|     *    \n",
      "\n",
      "\n",
      "|         *\n",
      "|     * * *\n",
      "|   *   *  \n",
      "| * *     *\n",
      "| *     *  \n",
      "| *        \n"
     ]
    }
   ],
   "source": [
    "draw_bin_image(c_shuffle.reshape((6, 5)))\n",
    "print('\\n')\n",
    "draw_bin_image(arrow_shuffle.reshape((6, 5)))\n",
    "print('\\n')\n",
    "draw_bin_image(four_shuffle.reshape((6, 5)))"
   ]
  },
  {
   "cell_type": "markdown",
   "metadata": {},
   "source": [
    "### 1.4.2 Shuffled pattern prediction"
   ]
  },
  {
   "cell_type": "markdown",
   "metadata": {},
   "source": [
    "The network successfully recalled the 'C' and 'arrow' "
   ]
  },
  {
   "cell_type": "code",
   "execution_count": 13,
   "metadata": {},
   "outputs": [
    {
     "name": "stdout",
     "output_type": "stream",
     "text": [
      "|   * * *  \n",
      "| *       *\n",
      "| *        \n",
      "| *        \n",
      "| *       *\n",
      "|   * * *  \n"
     ]
    }
   ],
   "source": [
    "result = dhnet.predict(c_shuffle)\n",
    "draw_bin_image(result.reshape((6, 5)))"
   ]
  },
  {
   "cell_type": "code",
   "execution_count": 14,
   "metadata": {},
   "outputs": [
    {
     "name": "stdout",
     "output_type": "stream",
     "text": [
      "|     *    \n",
      "|   * * *  \n",
      "| *   *   *\n",
      "|     *    \n",
      "|     *    \n",
      "|     *    \n"
     ]
    }
   ],
   "source": [
    "result = dhnet.predict(arrow_shuffle)\n",
    "draw_bin_image(result.reshape((6, 5)))"
   ]
  },
  {
   "cell_type": "markdown",
   "metadata": {},
   "source": [
    "It was not successful in recovering the '4' pattern, which was returned with some additional noise. Unlike what was verified in the example exercise, we cannot affirm with certainty that this patterns results from the combination of the '4' pattern with one or both of the other two."
   ]
  },
  {
   "cell_type": "code",
   "execution_count": 15,
   "metadata": {},
   "outputs": [
    {
     "name": "stdout",
     "output_type": "stream",
     "text": [
      "| *     *  \n",
      "|     * *  \n",
      "|   *   *  \n",
      "| * * * * *\n",
      "|   *   *  \n",
      "|       * *\n"
     ]
    }
   ],
   "source": [
    "result = dhnet.predict(four_shuffle)\n",
    "draw_bin_image(result.reshape((6, 5)))"
   ]
  },
  {
   "cell_type": "markdown",
   "metadata": {},
   "source": [
    "Following the directions provided in the example, we will experiment with an **assynchronous** approach, by adjusting the mode of the network accordingly. This produced better results comparatively to the synchronous mode, effectively recalling the '4' pattern."
   ]
  },
  {
   "cell_type": "code",
   "execution_count": 16,
   "metadata": {},
   "outputs": [
    {
     "name": "stdout",
     "output_type": "stream",
     "text": [
      "|       *  \n",
      "|     * *  \n",
      "|   *   *  \n",
      "| * * * * *\n",
      "|       *  \n",
      "|       *  \n"
     ]
    }
   ],
   "source": [
    "from neupy import utils\n",
    "utils.reproducible()\n",
    "\n",
    "dhnet.mode = 'async'\n",
    "dhnet.n_times = 400\n",
    "\n",
    "result = dhnet.predict(four_shuffle)\n",
    "draw_bin_image(result.reshape((6, 5)))"
   ]
  },
  {
   "cell_type": "markdown",
   "metadata": {},
   "source": [
    "### 1.5 Hinton diagram"
   ]
  },
  {
   "cell_type": "markdown",
   "metadata": {},
   "source": [
    "The Hinton diagram is the representation of the Weight Matrix, with white and black squares representing positive and negative values, respectively. Since the weight matrix is depentend on the number of patterns we are using to train in (i.e., the patterns it memorizes), it's values can vary between m and -m, where m is the number of patterns. In the diagram bellow, we can see big and smaller squares, that represent the magnitude of the value. Therefore, the bigger the square, the closer to m or -m, and the smalled the square, the closer to 0. We will interpret this diagram in more detail in our final remarks."
   ]
  },
  {
   "cell_type": "code",
   "execution_count": 17,
   "metadata": {
    "scrolled": true
   },
   "outputs": [
    {
     "data": {
      "image/png": "[encoded data removed]",
      "text/plain": [
       "<Figure size 1008x864 with 1 Axes>"
      ]
     },
     "metadata": {},
     "output_type": "display_data"
    }
   ],
   "source": [
    "from neupy import plots\n",
    "import matplotlib.pyplot as plt\n",
    "\n",
    "plt.figure(figsize=(14, 12))\n",
    "plt.title(\"Hinton diagram\")\n",
    "plots.hinton(dhnet.weight)\n",
    "plt.show()"
   ]
  },
  {
   "cell_type": "markdown",
   "metadata": {},
   "source": [
    "###  2.1 Adding more patterns"
   ]
  },
  {
   "cell_type": "markdown",
   "metadata": {},
   "source": [
    "We draw two more images using asterisks to represent the sigma(Σ) and omega(Ω) symbols. This new paterns can be observed once again using the draw_bin_image function. The goal of this is to see the performance of the net dealing with more paterns and observing if it keeps its accuracy."
   ]
  },
  {
   "cell_type": "code",
   "execution_count": 18,
   "metadata": {},
   "outputs": [],
   "source": [
    "sigma = np.matrix([\n",
    "    1, 1, 1, 1, 1,\n",
    "    0, 1, 0, 0, 0,\n",
    "    0, 0, 1, 0, 0,\n",
    "    0, 0, 1, 0, 0,\n",
    "    0, 1, 0, 0, 0,\n",
    "    1, 1, 1, 1, 1\n",
    "    ])\n",
    "\n",
    "omega = np.matrix([\n",
    "    0, 1, 1, 1, 0,\n",
    "    1, 0, 0, 0, 1,\n",
    "    1, 0, 0, 0, 1,\n",
    "    1, 0, 0, 0, 1,\n",
    "    0, 1, 0, 1, 0,\n",
    "    1, 1, 0, 1, 1\n",
    "    ])"
   ]
  },
  {
   "cell_type": "code",
   "execution_count": 19,
   "metadata": {},
   "outputs": [
    {
     "name": "stdout",
     "output_type": "stream",
     "text": [
      "| * * * * *\n",
      "|   *      \n",
      "|     *    \n",
      "|     *    \n",
      "|   *      \n",
      "| * * * * *\n",
      "\n",
      "\n",
      "|   * * *  \n",
      "| *       *\n",
      "| *       *\n",
      "| *       *\n",
      "|   *   *  \n",
      "| * *   * *\n"
     ]
    }
   ],
   "source": [
    "draw_bin_image(sigma.reshape((6, 5)))\n",
    "print('\\n')\n",
    "draw_bin_image(omega.reshape((6, 5)))"
   ]
  },
  {
   "cell_type": "markdown",
   "metadata": {},
   "source": [
    "### 2.2 Training the network with  2 new paterns (synchronous)"
   ]
  },
  {
   "cell_type": "markdown",
   "metadata": {},
   "source": [
    "We followed the same workflow with the 2 new paterns starting it by training the new model and then testing it to observe the results. Just as before, we will set 'sync' as our initial mode."
   ]
  },
  {
   "cell_type": "code",
   "execution_count": 20,
   "metadata": {},
   "outputs": [],
   "source": [
    "data = np.concatenate([c, arrow, four, sigma, omega], axis=0)\n",
    "\n",
    "dhnet = algorithms.DiscreteHopfieldNetwork(mode='sync')\n",
    "dhnet.train(data)"
   ]
  },
  {
   "cell_type": "markdown",
   "metadata": {},
   "source": [
    "### 2.3 Recalling broken and shuffled patterns"
   ]
  },
  {
   "cell_type": "markdown",
   "metadata": {},
   "source": [
    "###  2.3.1 Broken and shuffled patterns creation"
   ]
  },
  {
   "cell_type": "markdown",
   "metadata": {},
   "source": [
    "Once again, we changed the \"ones\" of our images to see if the model can predict the boken patterns."
   ]
  },
  {
   "cell_type": "code",
   "execution_count": 21,
   "metadata": {},
   "outputs": [],
   "source": [
    "#broken patterns\n",
    "sigma_broken = np.matrix([\n",
    "    1, 1, 1, 1, 1,\n",
    "    0, 0, 0, 0, 0,\n",
    "    0, 0, 0, 0, 0,\n",
    "    0, 0, 1, 0, 0,\n",
    "    0, 1, 0, 0, 0,\n",
    "    0, 1, 0, 1, 1\n",
    "    ])\n",
    "\n",
    "omega_broken = np.matrix([\n",
    "    0, 1, 1, 1, 0,\n",
    "    1, 0, 0, 0, 0,\n",
    "    1, 0, 0, 0, 0,\n",
    "    1, 0, 0, 0, 1,\n",
    "    0, 1, 0, 1, 0,\n",
    "    0, 0, 0, 1, 1\n",
    "    ])\n",
    "\n",
    "#shuffled patterns\n",
    "sigma_shuffle = np.matrix([\n",
    "    1, 1, 1, 1, 1,\n",
    "    0, 0, 0, 0, 1,\n",
    "    0, 0, 0, 1, 0,\n",
    "    1, 0, 1, 0, 0,\n",
    "    0, 1, 0, 0, 1,\n",
    "    0, 1, 0, 1, 1\n",
    "    ])\n",
    "\n",
    "omega_shuffle = np.matrix([\n",
    "    0, 1, 1, 1, 0,\n",
    "    1, 0, 0, 0, 0,\n",
    "    1, 0, 0, 1, 0,\n",
    "    1, 0, 1, 0, 1,\n",
    "    1, 1, 0, 1, 1,\n",
    "    0, 0, 0, 1, 1\n",
    "    ])"
   ]
  },
  {
   "cell_type": "code",
   "execution_count": 22,
   "metadata": {},
   "outputs": [
    {
     "name": "stdout",
     "output_type": "stream",
     "text": [
      "Broken sigma and omega\n",
      "\n",
      "\n",
      "| * * * * *\n",
      "|          \n",
      "|          \n",
      "|     *    \n",
      "|   *      \n",
      "|   *   * *\n",
      "\n",
      "\n",
      "|   * * *  \n",
      "| *        \n",
      "| *        \n",
      "| *       *\n",
      "|   *   *  \n",
      "|       * *\n",
      "\n",
      "\n",
      "Shuffled sigma and omega\n",
      "\n",
      "\n",
      "| * * * * *\n",
      "|         *\n",
      "|       *  \n",
      "| *   *    \n",
      "|   *     *\n",
      "|   *   * *\n",
      "\n",
      "\n",
      "|   * * *  \n",
      "| *        \n",
      "| *     *  \n",
      "| *   *   *\n",
      "| * *   * *\n",
      "|       * *\n"
     ]
    }
   ],
   "source": [
    "print('Broken sigma and omega')\n",
    "print('\\n')\n",
    "draw_bin_image(sigma_broken.reshape((6, 5)))\n",
    "print('\\n')\n",
    "draw_bin_image(omega_broken.reshape((6, 5)))\n",
    "print('\\n')\n",
    "print('Shuffled sigma and omega')\n",
    "print('\\n')\n",
    "draw_bin_image(sigma_shuffle.reshape((6, 5)))\n",
    "print('\\n')\n",
    "draw_bin_image(omega_shuffle.reshape((6, 5)))"
   ]
  },
  {
   "cell_type": "markdown",
   "metadata": {},
   "source": [
    "### 2.3.2 Broken pattern prediction (synchronous)"
   ]
  },
  {
   "cell_type": "markdown",
   "metadata": {},
   "source": [
    "Is possible to see that with more patterns the model has an increased difficulty to predict the correct patterns."
   ]
  },
  {
   "cell_type": "code",
   "execution_count": 23,
   "metadata": {},
   "outputs": [
    {
     "name": "stdout",
     "output_type": "stream",
     "text": [
      "|   * * *  \n",
      "| *       *\n",
      "| *        \n",
      "| *        \n",
      "| *       *\n",
      "|   * * *  \n",
      "\n",
      "\n",
      "|     *    \n",
      "|   * * *  \n",
      "| *   *   *\n",
      "|     *    \n",
      "|     *    \n",
      "|     *    \n",
      "\n",
      "\n",
      "|       *  \n",
      "|     * *  \n",
      "|   *   * *\n",
      "| * * * * *\n",
      "|     * *  \n",
      "|       *  \n",
      "\n",
      "\n",
      "| * * * * *\n",
      "| * *     *\n",
      "|     *    \n",
      "|          \n",
      "|   *      \n",
      "| * * * * *\n",
      "\n",
      "\n",
      "|   * * *  \n",
      "| *       *\n",
      "| *       *\n",
      "| *       *\n",
      "|   *   *  \n",
      "| * *   * *\n"
     ]
    }
   ],
   "source": [
    "result = dhnet.predict(c_broken)\n",
    "draw_bin_image(result.reshape((6, 5)))\n",
    "print('\\n')\n",
    "result = dhnet.predict(arrow_broken)\n",
    "draw_bin_image(result.reshape((6, 5)))\n",
    "print('\\n')\n",
    "result = dhnet.predict(four_broken)\n",
    "draw_bin_image(result.reshape((6, 5)))\n",
    "print('\\n')\n",
    "result = dhnet.predict(sigma_broken)\n",
    "draw_bin_image(result.reshape((6, 5)))\n",
    "print('\\n')\n",
    "result = dhnet.predict(omega_broken)\n",
    "draw_bin_image(result.reshape((6, 5)))"
   ]
  },
  {
   "cell_type": "markdown",
   "metadata": {},
   "source": [
    "### 2.3.2 Shuffled patterns prediction (synchronous)"
   ]
  },
  {
   "cell_type": "markdown",
   "metadata": {},
   "source": [
    "The same happened on the shuffled pattern inputs, with more patterns it is harder to predict the original pattern."
   ]
  },
  {
   "cell_type": "code",
   "execution_count": 24,
   "metadata": {},
   "outputs": [
    {
     "name": "stdout",
     "output_type": "stream",
     "text": [
      "|   * * *  \n",
      "| *       *\n",
      "| *        \n",
      "| *        \n",
      "|       *  \n",
      "|   * * *  \n",
      "\n",
      "\n",
      "| *   *   *\n",
      "|   * * *  \n",
      "| * * * * *\n",
      "|   * *    \n",
      "|     *    \n",
      "|     *    \n",
      "\n",
      "\n",
      "|       *  \n",
      "| *   * *  \n",
      "|   *   * *\n",
      "| * * * * *\n",
      "|     * * *\n",
      "|       *  \n",
      "\n",
      "\n",
      "| * * * * *\n",
      "| *       *\n",
      "| *        \n",
      "| *        \n",
      "| * *      \n",
      "| * * * * *\n",
      "\n",
      "\n",
      "|   * * *  \n",
      "| *       *\n",
      "| *        \n",
      "| *       *\n",
      "|   *   *  \n",
      "| * *   * *\n"
     ]
    }
   ],
   "source": [
    "result = dhnet.predict(c_shuffle)\n",
    "draw_bin_image(result.reshape((6, 5)))\n",
    "print('\\n')\n",
    "result = dhnet.predict(arrow_shuffle)\n",
    "draw_bin_image(result.reshape((6, 5)))\n",
    "print('\\n')\n",
    "result = dhnet.predict(four_shuffle)\n",
    "draw_bin_image(result.reshape((6, 5)))\n",
    "print('\\n')\n",
    "result = dhnet.predict(sigma_shuffle)\n",
    "draw_bin_image(result.reshape((6, 5)))\n",
    "print('\\n')\n",
    "result = dhnet.predict(omega_shuffle)\n",
    "draw_bin_image(result.reshape((6, 5)))"
   ]
  },
  {
   "cell_type": "markdown",
   "metadata": {},
   "source": [
    "### 2.5 Changing recall to asynchronous mode "
   ]
  },
  {
   "cell_type": "markdown",
   "metadata": {},
   "source": [
    "With the previous results being not so  satisfactory we decided to change the recall mode to asynchronous and compare the results. The results did not change when using 1000 iterations, so we left the same number of iterations used for the first exercise."
   ]
  },
  {
   "cell_type": "code",
   "execution_count": 25,
   "metadata": {},
   "outputs": [],
   "source": [
    "dhnet.mode = 'async'\n",
    "dhnet.n_times = 400"
   ]
  },
  {
   "cell_type": "markdown",
   "metadata": {},
   "source": [
    "### 2.5.1 Remembering broken patterns - Patern prediction (asynchronous)"
   ]
  },
  {
   "cell_type": "code",
   "execution_count": 26,
   "metadata": {},
   "outputs": [
    {
     "name": "stdout",
     "output_type": "stream",
     "text": [
      "|   * * *  \n",
      "| *       *\n",
      "| *        \n",
      "| *        \n",
      "| *       *\n",
      "|   * * *  \n",
      "\n",
      "\n",
      "|     *    \n",
      "|   * * *  \n",
      "| *   *   *\n",
      "|     *    \n",
      "|     *    \n",
      "|     *    \n",
      "\n",
      "\n",
      "|          \n",
      "|     * *  \n",
      "|   *   * *\n",
      "| * * * * *\n",
      "|     * *  \n",
      "|          \n",
      "\n",
      "\n",
      "|   * * *  \n",
      "| *       *\n",
      "| *        \n",
      "| *        \n",
      "| * *     *\n",
      "| * * * * *\n",
      "\n",
      "\n",
      "|   * * *  \n",
      "| *       *\n",
      "| *       *\n",
      "| *       *\n",
      "|   *   *  \n",
      "| * *   * *\n"
     ]
    }
   ],
   "source": [
    "result = dhnet.predict(c_broken)\n",
    "draw_bin_image(result.reshape((6, 5)))\n",
    "print('\\n')\n",
    "result = dhnet.predict(arrow_broken)\n",
    "draw_bin_image(result.reshape((6, 5)))\n",
    "print('\\n')\n",
    "result = dhnet.predict(four_broken)\n",
    "draw_bin_image(result.reshape((6, 5)))\n",
    "print('\\n')\n",
    "result = dhnet.predict(sigma_broken)\n",
    "draw_bin_image(result.reshape((6, 5)))\n",
    "print('\\n')\n",
    "result = dhnet.predict(omega_broken)\n",
    "draw_bin_image(result.reshape((6, 5)))"
   ]
  },
  {
   "cell_type": "markdown",
   "metadata": {},
   "source": [
    "### 2.5.2 Remembering shuffled patterns - Patern prediction (asynchronous)"
   ]
  },
  {
   "cell_type": "code",
   "execution_count": 27,
   "metadata": {},
   "outputs": [
    {
     "name": "stdout",
     "output_type": "stream",
     "text": [
      "|   * * *  \n",
      "| *       *\n",
      "| *        \n",
      "| *        \n",
      "| * *     *\n",
      "| * * * * *\n",
      "\n",
      "\n",
      "| *       *\n",
      "|   * * *  \n",
      "|   * * *  \n",
      "|   * * *  \n",
      "|     *    \n",
      "|     *    \n",
      "\n",
      "\n",
      "|          \n",
      "|     * *  \n",
      "|   *   *  \n",
      "| * * * * *\n",
      "| *   * * *\n",
      "|          \n",
      "\n",
      "\n",
      "|   * * *  \n",
      "| *       *\n",
      "| *       *\n",
      "| *       *\n",
      "|   *   *  \n",
      "| * *   * *\n",
      "\n",
      "\n",
      "|   * * *  \n",
      "| *       *\n",
      "| *       *\n",
      "| *       *\n",
      "|   *   *  \n",
      "| * *   * *\n"
     ]
    }
   ],
   "source": [
    "result = dhnet.predict(c_shuffle)\n",
    "draw_bin_image(result.reshape((6, 5)))\n",
    "print('\\n')\n",
    "result = dhnet.predict(arrow_shuffle)\n",
    "draw_bin_image(result.reshape((6, 5)))\n",
    "print('\\n')\n",
    "result = dhnet.predict(four_shuffle)\n",
    "draw_bin_image(result.reshape((6, 5)))\n",
    "print('\\n')\n",
    "result = dhnet.predict(sigma_shuffle)\n",
    "draw_bin_image(result.reshape((6, 5)))\n",
    "print('\\n')\n",
    "result = dhnet.predict(omega_shuffle)\n",
    "draw_bin_image(result.reshape((6, 5)))"
   ]
  },
  {
   "cell_type": "markdown",
   "metadata": {},
   "source": [
    "Once more, we can observe that recalling is still not accurate and this can be attributed to the number of patterns we store in our matrix. We can also observe some changes in the new Hinton diagram bellow, which we will discuss in more depth in the final remarks, in an effort to understand this decrease of recall performance."
   ]
  },
  {
   "cell_type": "markdown",
   "metadata": {},
   "source": [
    "### 2.5 Hinton diagram"
   ]
  },
  {
   "cell_type": "code",
   "execution_count": 28,
   "metadata": {
    "scrolled": false
   },
   "outputs": [
    {
     "data": {
      "image/png": "[encoded data removed]",
      "text/plain": [
       "<Figure size 1008x864 with 1 Axes>"
      ]
     },
     "metadata": {},
     "output_type": "display_data"
    }
   ],
   "source": [
    "plt.figure(figsize=(14, 12))\n",
    "plt.title(\"Hinton diagram\")\n",
    "plots.hinton(dhnet.weight)\n",
    "plt.show()"
   ]
  },
  {
   "cell_type": "markdown",
   "metadata": {},
   "source": [
    "### 3. Final Remarks"
   ]
  },
  {
   "cell_type": "markdown",
   "metadata": {},
   "source": [
    "Due to the nature of these exercises, we decided it would be best to present all the results first and save the interpretation and conclusions for the end, as comparing the different results is crucial to understanding Hopfield Networks.\n",
    "\n",
    "Starting with the first exercise, we saw that recalling was more accurate when performed on asynchronous mode, since in this mode the input neurons are iteratively being updated by multiplication with the Weight Matrix during a number of iterations (400 in our exercise), until the output converges into a known pattern which the model has been trained on (this is not always the case and we will explain why in the next paragraph). This means that the input is constantly being updated one neuron at a time and, theoretically, becoming increasingly similar to a known pattern. In the synchronous mode, however all neurons are multiplied by the matrix at the same time to generate an output, which may not resemble any pattern used for training. We could observed that with the ‘4’ shuffled pattern in the first part of the exercise, which was only successfully recalled in asynchronous mode.\n",
    "\n",
    "In the second exercise, we observed the network had problems in recalling the in-memory patterns both in synchronous and asynchronous mode (we used 400 iterations for the latter but we tried with 1000 and reached similar results). Before we proceed to interpretation of our results, it’s important so assess the memory limit of our network. According to the formula provided in the NeuPy web page, this limit (m) is calculated based on the number of features (n) that each input has. Since n = 30 (number of neurons), m = n /[2.log(n)] ≈ 3. This means that the storage of 5 different patterns might be pushing the limit of the recall capabilities of our network. Other factors also come into play in the recall capacity such as the similarity of patterns and the modified version of the memory (broken and shuffled) we give as input. If this modified version resembles an intermediary state of 2 or more training patterns, then the recall might be corrupted and the model may return a pattern that it has never seen (hallucination), since that still satisfies the minimum energy condition. However, this is not a true minimum of the energy function corresponding to known patterns, but instead it corresponds to the minimum located in the intermediary “sadle” of the energy plane (for reference, see the plot in http://neupy.com/2015/09/20/discrete_hopfield_network.html#hallucinations ). The more patterns we have stored in memory in the m-dimensional space, the more “sadles” are created, meaning more intermediary states of local minimal energy are possible and hence more erroneous patterns. \n",
    "\n",
    "We can also observe that the Hinton diagram (a representation of the Weight Matrix) presents a higher percentage of high-magnitude values in the Hinton diagram when storing only 3 patterns, comparatively to the one storing 5 patterns. This can be observed by the higher number of large squares in the former and higher number of smaller squares in the latter, implying the Weight Matrix storing the five patterns is less stable, which we can confirm by looking at our recall results in both scenarios: in the scenario where 5 patterns were stored, the lower stability of the Hinton diagram results in more inaccurate recalling, even when in asynchronous mode. Greater values (whether positive or negative) increase stability since it means that when the Weight Matrix is multiplied by an input vector, the output neurons are less likely to oscillate (for the lack of a better word) between positive and negative states, which can greatly impact the retrieval both in synchronous and asynchronous mode. We also noticed the existence of similar columns in the Hinton diagrams, such as described in the NeuPy website but we find these reveal more about the patterns themselves than matrix stability, so we chose to focus on the latter aspect in this discussion, as we find it to be more relevant."
   ]
  }
 ],
 "metadata": {
  "kernelspec": {
   "display_name": "Python 3",
   "language": "python",
   "name": "python3"
  },
  "language_info": {
   "codemirror_mode": {
    "name": "ipython",
    "version": 3
   },
   "file_extension": ".py",
   "mimetype": "text/x-python",
   "name": "python",
   "nbconvert_exporter": "python",
   "pygments_lexer": "ipython3",
   "version": "3.7.6"
  }
 },
 "nbformat": 4,
 "nbformat_minor": 4
}
