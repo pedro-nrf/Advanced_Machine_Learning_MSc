{
 "cells": [
  {
   "cell_type": "markdown",
   "metadata": {},
   "source": [
    "# Aprendizagem Automática Avançada\n",
    "## TP5 - Mixture exercises\n",
    "João Romão - 55760,\n",
    "Pedro França - 55848"
   ]
  },
  {
   "cell_type": "code",
   "execution_count": 17,
   "metadata": {},
   "outputs": [],
   "source": [
    "import pandas as pd\n",
    "import numpy as np\n",
    "import statistics\n",
    "from itertools import permutations \n",
    "\n",
    "from sklearn.linear_model import LogisticRegression\n",
    "from sklearn.tree import DecisionTreeClassifier\n",
    "from sklearn.ensemble import AdaBoostClassifier\n",
    "from sklearn.cluster import KMeans\n",
    "from sklearn.mixture import GaussianMixture\n",
    "import sompy\n",
    "\n",
    "from sklearn.pipeline import Pipeline\n",
    "from sklearn.preprocessing import StandardScaler\n",
    "from sklearn.model_selection import train_test_split\n",
    "from sklearn.model_selection import cross_val_score\n",
    "from sklearn.model_selection import cross_val_predict\n",
    "from sklearn.metrics.cluster import contingency_matrix\n",
    "\n",
    "import matplotlib.pyplot as plt\n",
    "from seaborn import heatmap\n",
    "from sklearn.model_selection import StratifiedKFold"
   ]
  },
  {
   "cell_type": "markdown",
   "metadata": {},
   "source": [
    "# 1. Exercise 1 - AdaBoost"
   ]
  },
  {
   "cell_type": "markdown",
   "metadata": {},
   "source": [
    "### 1.1. Pre processing the data"
   ]
  },
  {
   "cell_type": "markdown",
   "metadata": {},
   "source": [
    "We are importing a [Breast Cancer Wisconsin](http://archive.ics.uci.edu/ml/datasets/Breast+Cancer+Wisconsin+%28Original%29) dataset and filtering the data by eliminating the rows with invalid entries and attributing the column names with the information on the website."
   ]
  },
  {
   "cell_type": "code",
   "execution_count": 18,
   "metadata": {},
   "outputs": [
    {
     "data": {
      "text/html": [
       "<div>\n",
       "<style scoped>\n",
       "    .dataframe tbody tr th:only-of-type {\n",
       "        vertical-align: middle;\n",
       "    }\n",
       "\n",
       "    .dataframe tbody tr th {\n",
       "        vertical-align: top;\n",
       "    }\n",
       "\n",
       "    .dataframe thead th {\n",
       "        text-align: right;\n",
       "    }\n",
       "</style>\n",
       "<table border=\"1\" class=\"dataframe\">\n",
       "  <thead>\n",
       "    <tr style=\"text-align: right;\">\n",
       "      <th></th>\n",
       "      <th>Sample code number</th>\n",
       "      <th>Clump Thickness</th>\n",
       "      <th>Uniformity of Cell Size</th>\n",
       "      <th>Uniformity of Cell Shape</th>\n",
       "      <th>Marginal Adhesion</th>\n",
       "      <th>Single Epithelial Cell Size</th>\n",
       "      <th>Bare Nuclei</th>\n",
       "      <th>Bland Chromatin</th>\n",
       "      <th>Normal Nucleoli</th>\n",
       "      <th>Mitoses</th>\n",
       "      <th>Class</th>\n",
       "    </tr>\n",
       "  </thead>\n",
       "  <tbody>\n",
       "    <tr>\n",
       "      <th>0</th>\n",
       "      <td>1000025</td>\n",
       "      <td>5</td>\n",
       "      <td>1</td>\n",
       "      <td>1</td>\n",
       "      <td>1</td>\n",
       "      <td>2</td>\n",
       "      <td>1</td>\n",
       "      <td>3</td>\n",
       "      <td>1</td>\n",
       "      <td>1</td>\n",
       "      <td>2</td>\n",
       "    </tr>\n",
       "    <tr>\n",
       "      <th>1</th>\n",
       "      <td>1002945</td>\n",
       "      <td>5</td>\n",
       "      <td>4</td>\n",
       "      <td>4</td>\n",
       "      <td>5</td>\n",
       "      <td>7</td>\n",
       "      <td>10</td>\n",
       "      <td>3</td>\n",
       "      <td>2</td>\n",
       "      <td>1</td>\n",
       "      <td>2</td>\n",
       "    </tr>\n",
       "    <tr>\n",
       "      <th>2</th>\n",
       "      <td>1015425</td>\n",
       "      <td>3</td>\n",
       "      <td>1</td>\n",
       "      <td>1</td>\n",
       "      <td>1</td>\n",
       "      <td>2</td>\n",
       "      <td>2</td>\n",
       "      <td>3</td>\n",
       "      <td>1</td>\n",
       "      <td>1</td>\n",
       "      <td>2</td>\n",
       "    </tr>\n",
       "    <tr>\n",
       "      <th>3</th>\n",
       "      <td>1016277</td>\n",
       "      <td>6</td>\n",
       "      <td>8</td>\n",
       "      <td>8</td>\n",
       "      <td>1</td>\n",
       "      <td>3</td>\n",
       "      <td>4</td>\n",
       "      <td>3</td>\n",
       "      <td>7</td>\n",
       "      <td>1</td>\n",
       "      <td>2</td>\n",
       "    </tr>\n",
       "    <tr>\n",
       "      <th>4</th>\n",
       "      <td>1017023</td>\n",
       "      <td>4</td>\n",
       "      <td>1</td>\n",
       "      <td>1</td>\n",
       "      <td>3</td>\n",
       "      <td>2</td>\n",
       "      <td>1</td>\n",
       "      <td>3</td>\n",
       "      <td>1</td>\n",
       "      <td>1</td>\n",
       "      <td>2</td>\n",
       "    </tr>\n",
       "  </tbody>\n",
       "</table>\n",
       "</div>"
      ],
      "text/plain": [
       "   Sample code number  Clump Thickness  Uniformity of Cell Size  \\\n",
       "0             1000025                5                        1   \n",
       "1             1002945                5                        4   \n",
       "2             1015425                3                        1   \n",
       "3             1016277                6                        8   \n",
       "4             1017023                4                        1   \n",
       "\n",
       "   Uniformity of Cell Shape  Marginal Adhesion  Single Epithelial Cell Size  \\\n",
       "0                         1                  1                            2   \n",
       "1                         4                  5                            7   \n",
       "2                         1                  1                            2   \n",
       "3                         8                  1                            3   \n",
       "4                         1                  3                            2   \n",
       "\n",
       "  Bare Nuclei  Bland Chromatin  Normal Nucleoli  Mitoses  Class  \n",
       "0           1                3                1        1      2  \n",
       "1          10                3                2        1      2  \n",
       "2           2                3                1        1      2  \n",
       "3           4                3                7        1      2  \n",
       "4           1                3                1        1      2  "
      ]
     },
     "execution_count": 18,
     "metadata": {},
     "output_type": "execute_result"
    }
   ],
   "source": [
    "#Loading the dataset\n",
    "bcancer = pd.read_csv(\"breast-cancer-wisconsin.data\", header=None)\n",
    "\n",
    "bcancer.columns = ['Sample code number',\n",
    "'Clump Thickness',\n",
    "'Uniformity of Cell Size',\n",
    "'Uniformity of Cell Shape',\n",
    "'Marginal Adhesion',\n",
    "'Single Epithelial Cell Size',\n",
    "'Bare Nuclei',\n",
    "'Bland Chromatin',\n",
    "'Normal Nucleoli',\n",
    "'Mitoses',\n",
    "'Class']\n",
    "\n",
    "bcancer.head()"
   ]
  },
  {
   "cell_type": "code",
   "execution_count": 24,
   "metadata": {},
   "outputs": [],
   "source": [
    "#removing the rows with '?'\n",
    "bcancer = bcancer[bcancer['Bare Nuclei'] != '?']\n",
    "\n",
    "#separating X and y\n",
    "X = bcancer.iloc[:,1:10]\n",
    "y = bcancer.iloc[:,-1]"
   ]
  },
  {
   "cell_type": "markdown",
   "metadata": {},
   "source": [
    "### 1.2. Logistic Regression"
   ]
  },
  {
   "cell_type": "markdown",
   "metadata": {},
   "source": [
    "To train a logistic regression and assess its accuracy, we have created a pipeline that normalizes the data and fits the model. We then calculate the accuracy using 10-fold cross-validation. According to the [documentation](https://scikit-learn.org/stable/modules/cross_validation.html), by including the StandardScaler in the pipeline and then applying cross-validation, the scaler is fit to the train portion of the data and then applied both to the train and test portions. By doing this, we make sure that new data (test) is in the same scale than the data that used to trained the model (train)."
   ]
  },
  {
   "cell_type": "code",
   "execution_count": 20,
   "metadata": {},
   "outputs": [
    {
     "name": "stdout",
     "output_type": "stream",
     "text": [
      "10-fold cross validation accuracy mean :  0.9664109121909634\n"
     ]
    }
   ],
   "source": [
    "pipe = Pipeline([('scaler', StandardScaler()), ('logreg', LogisticRegression())])\n",
    "cvs = cross_val_score(pipe, X, y, cv=10)\n",
    "print(\"10-fold cross validation accuracy mean : \",np.mean(cvs))"
   ]
  },
  {
   "cell_type": "markdown",
   "metadata": {},
   "source": [
    "### 1.3. AdaBoost"
   ]
  },
  {
   "cell_type": "markdown",
   "metadata": {},
   "source": [
    "AdaBoost is a meta-heuristic algorithm that can be used to increase the performance of other learning algorithms. This technique is commonly used to boost weak classifiers (i.e., classifier that do not perform particularly well in classifying data) by combining them into a single strong classifier. It is adaptable in the sense that subsequent classifications are adjusted in favor of the instances that were previously misclassified. Since AdaBoost only uses a portion of the total dataset for training each classifier, it performs these adjustments by increasing the number of misclassified instances by the previous classifier on the training set of the next classifier. Lastly, AdaBoost combines all of the classifiers using a weighted approach, based on their performance.\n",
    "\n",
    "In this exercise, the same process was done using the Adaboost with 3, 7, and 10 logistic regression base learner experts. We have created a pipeline with the same objective as previously and used a 10-fold cross validation to train and evaluate the model."
   ]
  },
  {
   "cell_type": "markdown",
   "metadata": {},
   "source": [
    "#### 1.3.1. Using AdaBoost with 3, 7 and 10 logistic regression base learners experts"
   ]
  },
  {
   "cell_type": "code",
   "execution_count": 6,
   "metadata": {},
   "outputs": [
    {
     "name": "stdout",
     "output_type": "stream",
     "text": [
      "10-fold cross validation accuracy with 3 estimators: 0.9532821824381926\n",
      "10-fold cross validation accuracy with 7 estimators: 0.9649829497016199\n",
      "10-fold cross validation accuracy with 10 estimators: 0.963533674339301\n"
     ]
    }
   ],
   "source": [
    "for n in [3,7,10]:\n",
    "    logreg = LogisticRegression()\n",
    "    pipe = Pipeline([('scaler', StandardScaler()), ('adab', AdaBoostClassifier(base_estimator=logreg, n_estimators=n))])\n",
    "    cvs = cross_val_score(pipe, X, y, cv=10)\n",
    "    print(\"10-fold cross validation accuracy with\", n ,\"estimators:\",np.mean(cvs))"
   ]
  },
  {
   "cell_type": "markdown",
   "metadata": {},
   "source": [
    "Analyzing the results from the logistic regression accuracy test and the AdaBoost 7 logistic regression base learner experts we can observe that both scored a very high score, but we cannot observe much difference between these two models. We also ran the training process many times to observe if with different seeds generations and the results did not change significatively.\n",
    "\n",
    "Comparing the results for the different estimators numbers, the same happened. The score keeps the same value with a slightly difference of approximately 0.01 accuracy score, between the 3 estimators boost and the 10 estimators. Our conclusion is that the base LogisticRegression model was already a strong classifier, and so we could not significantly improve it's accuracy by using AdaBoost."
   ]
  },
  {
   "cell_type": "markdown",
   "metadata": {},
   "source": [
    "#### 1.3.2. Using AdaBoost with 3, 7 and 10 decision tree base learners experts"
   ]
  },
  {
   "cell_type": "code",
   "execution_count": 7,
   "metadata": {},
   "outputs": [
    {
     "name": "stdout",
     "output_type": "stream",
     "text": [
      "10-fold cross validation accuracy mean:  0.8975703324808183\n"
     ]
    }
   ],
   "source": [
    "from sklearn.tree import DecisionTreeClassifier\n",
    "pipe = Pipeline([('scaler', StandardScaler()), ('dtc', DecisionTreeClassifier(max_depth=1))])\n",
    "cvs = cross_val_score(pipe, X, y, cv=10)\n",
    "print(\"10-fold cross validation accuracy mean: \",np.mean(cvs))"
   ]
  },
  {
   "cell_type": "code",
   "execution_count": 8,
   "metadata": {},
   "outputs": [
    {
     "name": "stdout",
     "output_type": "stream",
     "text": [
      "10-fold cross validation accuracy with 3 estimators: 0.9371270247229326\n",
      "10-fold cross validation accuracy with 7 estimators: 0.942988064791134\n",
      "10-fold cross validation accuracy with 10 estimators: 0.9503196930946292\n"
     ]
    }
   ],
   "source": [
    "for n in [3,7,10]:\n",
    "    # by using base_estimator=None in AdaBoost, the\n",
    "    pipe = Pipeline([('scaler', StandardScaler()), ('adab', AdaBoostClassifier(base_estimator=None, n_estimators=n))])\n",
    "    cvs = cross_val_score(pipe, X, y, cv=10)\n",
    "    print(\"10-fold cross validation accuracy with\", n ,\"estimators:\",np.mean(cvs))"
   ]
  },
  {
   "cell_type": "markdown",
   "metadata": {},
   "source": [
    "By using `base_estimator=None` in AdaBoost, the base estimator defaults to DecisionTreeClassifier initialized with max_depth=1, which is also referred to as a 'stump'. By using this stump as a single classifier and applying cross-validation, we achieve an accuracy of approximately 0.90. By applying AdaBoost we can observe that there is indeed a small boost in the model's accuracy (approximately 0.04). However, comparing the accuracy score difference between the three number of estimators we can observe that this method keeps the same behaviour observed when using LogisticRegression as the base estimator. This implies that AdaBoost was already \"saturated\" with the 3 'stump' estimators, and therefore increasing this number only provided a slight increase in accuracy."
   ]
  },
  {
   "cell_type": "markdown",
   "metadata": {},
   "source": [
    "# 2. Exercise 2 - K-means, Gaussian Mixture, and SOM"
   ]
  },
  {
   "cell_type": "markdown",
   "metadata": {},
   "source": [
    "### 2.1. Preprocessing the data"
   ]
  },
  {
   "cell_type": "markdown",
   "metadata": {},
   "source": [
    "The second exercise was focused on another dataset, the [Iris data set](https://archive.ics.uci.edu/ml/datasets/iris). We have downloaded the data and used the same method to preprocess the data as used on exercise 1."
   ]
  },
  {
   "cell_type": "code",
   "execution_count": 9,
   "metadata": {},
   "outputs": [
    {
     "data": {
      "text/html": [
       "<div>\n",
       "<style scoped>\n",
       "    .dataframe tbody tr th:only-of-type {\n",
       "        vertical-align: middle;\n",
       "    }\n",
       "\n",
       "    .dataframe tbody tr th {\n",
       "        vertical-align: top;\n",
       "    }\n",
       "\n",
       "    .dataframe thead th {\n",
       "        text-align: right;\n",
       "    }\n",
       "</style>\n",
       "<table border=\"1\" class=\"dataframe\">\n",
       "  <thead>\n",
       "    <tr style=\"text-align: right;\">\n",
       "      <th></th>\n",
       "      <th>sepal length</th>\n",
       "      <th>sepal width</th>\n",
       "      <th>petal length</th>\n",
       "      <th>petal width</th>\n",
       "      <th>class</th>\n",
       "    </tr>\n",
       "  </thead>\n",
       "  <tbody>\n",
       "    <tr>\n",
       "      <th>0</th>\n",
       "      <td>5.1</td>\n",
       "      <td>3.5</td>\n",
       "      <td>1.4</td>\n",
       "      <td>0.2</td>\n",
       "      <td>Iris-setosa</td>\n",
       "    </tr>\n",
       "    <tr>\n",
       "      <th>1</th>\n",
       "      <td>4.9</td>\n",
       "      <td>3.0</td>\n",
       "      <td>1.4</td>\n",
       "      <td>0.2</td>\n",
       "      <td>Iris-setosa</td>\n",
       "    </tr>\n",
       "    <tr>\n",
       "      <th>2</th>\n",
       "      <td>4.7</td>\n",
       "      <td>3.2</td>\n",
       "      <td>1.3</td>\n",
       "      <td>0.2</td>\n",
       "      <td>Iris-setosa</td>\n",
       "    </tr>\n",
       "    <tr>\n",
       "      <th>3</th>\n",
       "      <td>4.6</td>\n",
       "      <td>3.1</td>\n",
       "      <td>1.5</td>\n",
       "      <td>0.2</td>\n",
       "      <td>Iris-setosa</td>\n",
       "    </tr>\n",
       "    <tr>\n",
       "      <th>4</th>\n",
       "      <td>5.0</td>\n",
       "      <td>3.6</td>\n",
       "      <td>1.4</td>\n",
       "      <td>0.2</td>\n",
       "      <td>Iris-setosa</td>\n",
       "    </tr>\n",
       "  </tbody>\n",
       "</table>\n",
       "</div>"
      ],
      "text/plain": [
       "   sepal length  sepal width  petal length  petal width        class\n",
       "0           5.1          3.5           1.4          0.2  Iris-setosa\n",
       "1           4.9          3.0           1.4          0.2  Iris-setosa\n",
       "2           4.7          3.2           1.3          0.2  Iris-setosa\n",
       "3           4.6          3.1           1.5          0.2  Iris-setosa\n",
       "4           5.0          3.6           1.4          0.2  Iris-setosa"
      ]
     },
     "execution_count": 9,
     "metadata": {},
     "output_type": "execute_result"
    }
   ],
   "source": [
    "iris = pd.read_csv('iris.data', header = None)\n",
    "\n",
    "iris.columns = ['sepal length',\n",
    "'sepal width',\n",
    "'petal length',\n",
    "'petal width',\n",
    "'class']\n",
    "\n",
    "iris.head()"
   ]
  },
  {
   "cell_type": "code",
   "execution_count": 10,
   "metadata": {},
   "outputs": [],
   "source": [
    "X = iris.iloc[:,:-1]\n",
    "y = iris.iloc[:,-1]"
   ]
  },
  {
   "cell_type": "markdown",
   "metadata": {},
   "source": [
    "This time we are using unsupervised models to cluster the data in 3 different clusters and analyse their accuracy. Since we are employing an unsupervised approach for classification, we had to make some adjustments to allow these models to predict labels for new data and compute a confusion matrix with cross-validation. For that, we establish the assumption that the corresponding \"label\" of a cluster is the one that is most frequently present in that cluster (i.e., is the mode label of that cluster). After the training has been performed, we check the testing data to see if they fall into the clusters of their respective labels. We also performed cross-validation using Stratified-K-folds. In order to simplify our process, we created the following functions, which we will briefly explain bellow:\n",
    "* **manual_cm** - performs classification on the testing data, using the model fitted with the training data. Its output is a 3x3 matrix that is organized in order for its diagonal to display the intersection of the true label and it's respective cluster, thus being organized in the same way as a confusion matrix. The correspondence between cluster and label is established using the mode of labels in each cluster.\n",
    "\n",
    "* **cross_val_clusters** - this function performs cross-validation by shuffling and separating the original dataset into k-folds, which are stratified in order to preserve the original label ratios. Each fold is used for testing while the remaining dataset is used for training the model. Furthermore, data is scaled to the scale of the training set using StandardScaler. Each confusion matrix of the testing dataset is obtained using the **manual_cm** function and stored in a list. The model returns the summation of all these matrices, which corresponds to the cross-validated confusion matrix.\n",
    "\n",
    "* **plot_confusion** - this function generates a heatmap plot of the confusion matrix returned by **cross_val_clusters**"
   ]
  },
  {
   "cell_type": "code",
   "execution_count": 21,
   "metadata": {},
   "outputs": [],
   "source": [
    "def manual_cm(model, X_train, X_test, y_train, y_test):\n",
    "    \n",
    "    #retrieving the cluster number of each training and testing datapoint\n",
    "    try:\n",
    "        labels_train = model.predict(X_train)\n",
    "        labels_test = model.predict(X_test)\n",
    "    except:\n",
    "        clusters_train = []\n",
    "        clusters_test = []\n",
    "\n",
    "        for e in model.project_data(X_train): #som.project_data(data) retrieves the specific neuron onto which each datapoint is assigned to\n",
    "            point_cluster = getattr(model, 'cluster_labels')[e] #retriving the cluster number of each specific neuron\n",
    "            clusters_train.append(point_cluster)\n",
    "            labels_train = np.array(clusters_train)\n",
    "            \n",
    "        for e in model.project_data(X_test): #som.project_data(data) retrieves the specific neuron onto which each datapoint is assigned to\n",
    "            point_cluster = getattr(model, 'cluster_labels')[e] #retriving the cluster number of each specific neuron\n",
    "            clusters_test.append(point_cluster)\n",
    "            labels_test = np.array(clusters_test)    \n",
    "    \n",
    "    #correspondence between cluster and mean label of training data\n",
    "    df_labels = pd.DataFrame({'cluster': labels_train , 'label': y_train})\n",
    "    df_labels = df_labels.groupby(['cluster']).agg(lambda x:x.value_counts().index[0])\n",
    "    \n",
    "    #contigency matrix with the testing data\n",
    "    cm = contingency_matrix(y_test, labels_test)\n",
    "    df = pd.DataFrame(cm)\n",
    "    flower_labels = list(set(y_test))\n",
    "    flower_labels.sort()\n",
    "    df.index=flower_labels\n",
    "    df.columns = list(df_labels['label'])\n",
    "    df = df[df.index[0:3]]\n",
    "    df_array = df.to_numpy()\n",
    "    \n",
    "    return (df_array)"
   ]
  },
  {
   "cell_type": "code",
   "execution_count": 22,
   "metadata": {},
   "outputs": [],
   "source": [
    "def cross_val_clusters(model, folds, X, y):\n",
    "    kf = StratifiedKFold(n_splits=folds, shuffle = True)\n",
    "    kf.get_n_splits(X,y)\n",
    "\n",
    "    cm_list = []\n",
    "\n",
    "    for train_index, test_index in kf.split(X,y):\n",
    "        model2 = model\n",
    "        \n",
    "        #print(\"TRAIN:\", train_index, \"TEST:\", test_index)\n",
    "        X_train, X_test = X.iloc[train_index], X.iloc[test_index]\n",
    "        y_train, y_test = y.iloc[train_index], y.iloc[test_index]\n",
    "        \n",
    "        scaler = StandardScaler().fit(X_train)\n",
    "        X_train = scaler.transform(X_train)\n",
    "        X_test = scaler.transform(X_test)\n",
    "\n",
    "        try:\n",
    "            model2.fit(X_train, y_train)\n",
    "        except:\n",
    "            model2 = model2.build(X_train, mapsize)\n",
    "            model2.train(n_job=1, verbose=None)\n",
    "            model2.cluster(n_clusters = 3)\n",
    "\n",
    "        cm_i = manual_cm(model2, X_train, X_test, y_train, y_test)\n",
    "        cm_list.append(cm_i)\n",
    "    \n",
    "    cv_matrix = sum(cm_list)\n",
    "\n",
    "    return(cv_matrix)"
   ]
  },
  {
   "cell_type": "code",
   "execution_count": 23,
   "metadata": {},
   "outputs": [],
   "source": [
    "def plot_confusion (matrix):\n",
    "    df_a = pd.DataFrame(matrix)\n",
    "\n",
    "    #retrieving unique labels, sorting, and assigning them to the index\n",
    "    flower_labels = list(set(y))\n",
    "    flower_labels.sort()\n",
    "    df_a.index=flower_labels\n",
    "    df_a.columns =flower_labels\n",
    "    \n",
    "    ax = heatmap(df_a, annot=True, square=True)\n",
    "    ax.xaxis.tick_top()\n",
    "    ax.xaxis.set_label_position('top')\n",
    "    \n",
    "    return(plt.show())    "
   ]
  },
  {
   "cell_type": "markdown",
   "metadata": {},
   "source": [
    "Having created the necessary functions, we just need to instantiate each model and call the functions to easily compute the confusion matrix. Lastly, we also calculate the accuracy by summing the diagonal of the confusion matrix and dividing it by the length of the complete dataset (percentage of correct classifications)."
   ]
  },
  {
   "cell_type": "markdown",
   "metadata": {},
   "source": [
    "### 2.2 Kmeans"
   ]
  },
  {
   "cell_type": "markdown",
   "metadata": {},
   "source": [
    "The goal of this algorithm is to find groups in the data (unsupervised model), with the number of groups represented by the variable K, corresponding to the parameter `n_clusters`. The algorithm works iteratively to assign each data point to one of K groups based on the features that are provided. Data points are clustered based on feature similarity. "
   ]
  },
  {
   "cell_type": "code",
   "execution_count": 20,
   "metadata": {},
   "outputs": [
    {
     "data": {
      "image/png": "[encoded data removed]",
      "text/plain": [
       "<Figure size 432x288 with 2 Axes>"
      ]
     },
     "metadata": {
      "needs_background": "light"
     },
     "output_type": "display_data"
    },
    {
     "name": "stdout",
     "output_type": "stream",
     "text": [
      "Accuracy: 0.83\n"
     ]
    }
   ],
   "source": [
    "kmeans = KMeans(n_clusters=3, random_state=0)\n",
    "\n",
    "cv_matrix = cross_val_clusters(kmeans, 10, X, y)\n",
    "plot_confusion(cv_matrix)\n",
    "\n",
    "acc = np.trace(cv_matrix)/len(X)\n",
    "print(\"Accuracy: \" + str(round(acc,2)))"
   ]
  },
  {
   "cell_type": "markdown",
   "metadata": {},
   "source": [
    "### 2.3 Gaussian Mixture"
   ]
  },
  {
   "cell_type": "markdown",
   "metadata": {},
   "source": [
    "A Gaussian Mixture model is a probabilistic model for representing the presence of subpopulations within an overall population, where each sub-population is modelled according to a different Gaussian distribution. Being an unsupervised algorithm, it does not required that an observed dataset should identify the sub-population to which an individual observation belongs. "
   ]
  },
  {
   "cell_type": "code",
   "execution_count": 19,
   "metadata": {
    "scrolled": false
   },
   "outputs": [
    {
     "data": {
      "image/png": "[encoded data removed]",
      "text/plain": [
       "<Figure size 432x288 with 2 Axes>"
      ]
     },
     "metadata": {
      "needs_background": "light"
     },
     "output_type": "display_data"
    },
    {
     "name": "stdout",
     "output_type": "stream",
     "text": [
      "Accuracy: 0.97\n"
     ]
    }
   ],
   "source": [
    "gaussian = GaussianMixture(n_components=3, random_state=0)\n",
    "\n",
    "cv_matrix = cross_val_clusters(gaussian, 10, X, y)\n",
    "plot_confusion(cv_matrix)\n",
    "\n",
    "acc = np.trace(cv_matrix)/len(X)\n",
    "print(\"Accuracy: \" + str(round(acc,2)))"
   ]
  },
  {
   "cell_type": "markdown",
   "metadata": {},
   "source": [
    "### 2.4 SOM"
   ]
  },
  {
   "cell_type": "markdown",
   "metadata": {},
   "source": [
    "A self-organizing map (SOM) is a type of artificial neural network that is trained using unsupervised learning to produce a low-dimensional (typically two-dimensional), discretized representation of the input space of the training samples, called a map, and is therefore a method to do dimensionality reduction. They apply competitive learning as opposed to error-correction learning (such as backpropagation with gradient descent), and in the sense that they use a neighborhood function to preserve the topological properties of the input space."
   ]
  },
  {
   "cell_type": "code",
   "execution_count": 17,
   "metadata": {
    "scrolled": false
   },
   "outputs": [
    {
     "data": {
      "image/png": "[encoded data removed]",
      "text/plain": [
       "<Figure size 432x288 with 2 Axes>"
      ]
     },
     "metadata": {
      "needs_background": "light"
     },
     "output_type": "display_data"
    },
    {
     "name": "stdout",
     "output_type": "stream",
     "text": [
      "Accuracy: 0.85\n"
     ]
    }
   ],
   "source": [
    "mapsize = [20,20]\n",
    "som = sompy.SOMFactory\n",
    "\n",
    "cv_matrix = cross_val_clusters(som, 10, X, y)\n",
    "plot_confusion(cv_matrix)\n",
    "\n",
    "acc = np.trace(cv_matrix)/len(X)\n",
    "print(\"Accuracy: \" + str(round(acc,2)))"
   ]
  },
  {
   "cell_type": "markdown",
   "metadata": {},
   "source": [
    "### 2.5 Exercise 2 conclusions"
   ]
  },
  {
   "cell_type": "markdown",
   "metadata": {},
   "source": [
    "Kmeans and SOM models predicted the labels of new data with approximately the same accuracy (~0.83). In both these models, *Iris setosa* predictions were highly accurate (very close to 1), while *Iris virginica* and *Iris versicolor* had more misclassifications. This is indicative of partial cluster overlap. Furthermore, the similar results between these two models was expected, since SOMPY uses KMeans to group the trained neurons into clusters (see \"def cluster\" in the [SOMPY code](https://github.com/sevamoo/SOMPY/blob/master/sompy/sompy.py)). Due to their similar accuracy, we would preferr using KMeans rather that SOMPY for the current problem, since the latter is computationally more expensive. However, other datasets may benefit from using SOMPY, allying both the dimensionality reduction properties of SOM and neuron clustering capabilities of Kmeans.\n",
    "\n",
    "The Gaussian mixture model had an accuracy of 0.97, only misclassifiying 5 *Iris versicolor*, implying the algorithm achieved minimal overlap between the clusters. Overall we can conclude that the Gaussian Mixture is the best cluster model for this dataset."
   ]
  }
 ],
 "metadata": {
  "kernelspec": {
   "display_name": "Python 3",
   "language": "python",
   "name": "python3"
  },
  "language_info": {
   "codemirror_mode": {
    "name": "ipython",
    "version": 3
   },
   "file_extension": ".py",
   "mimetype": "text/x-python",
   "name": "python",
   "nbconvert_exporter": "python",
   "pygments_lexer": "ipython3",
   "version": "3.8.3"
  }
 },
 "nbformat": 4,
 "nbformat_minor": 4
}
