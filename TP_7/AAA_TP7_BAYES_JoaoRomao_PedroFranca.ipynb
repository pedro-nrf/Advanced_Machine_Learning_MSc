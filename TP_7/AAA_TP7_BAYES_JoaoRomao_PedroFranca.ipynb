{
 "cells": [
  {
   "cell_type": "markdown",
   "metadata": {},
   "source": [
    "# Aprendizagem Automática Avançada\n",
    "## TP7 - BAYES exercises\n",
    "João Romão - 55760,\n",
    "Pedro França - 55848"
   ]
  },
  {
   "cell_type": "markdown",
   "metadata": {},
   "source": [
    "## 0. Approach to solving the exercise"
   ]
  },
  {
   "cell_type": "markdown",
   "metadata": {},
   "source": [
    "In order to solve the exercise, we decided to model the Bayesian Network shown in the [assignement diagram](https://www.ida.liu.se/ext/caisor/TDDC65/dectree-exercise/page-100930.html) using the pomegranate library. This library allows us to model the network using a straightforward approach, where we first define the probabilites of each node, for each state (T or F, which we will represent as 1 and 0, respectively), based on the state of their parent nodes, as presented in the diagram. We then established the parent-child relation (edges) for the different pairs of nodes and constructed the final model."
   ]
  },
  {
   "cell_type": "markdown",
   "metadata": {},
   "source": [
    "## 1. Modeling the network"
   ]
  },
  {
   "cell_type": "markdown",
   "metadata": {},
   "source": [
    "To create the Bayesian Network model we followed the instruction from two different tutorial using pomegranate ([tutorial1](https://github.com/jmschrei/pomegranate/blob/master/tutorials/B_Model_Tutorial_4_Bayesian_Networks.ipynb) and [tutorial2](https://github.com/jmschrei/pomegranate/blob/master/tutorials/B_Model_Tutorial_4b_Bayesian_Network_Structure_Learning.ipynb)), which are referenced in the [pomegranate documentation for Bayesian Networks](https://pomegranate.readthedocs.io/en/latest/BayesianNetwork.html)."
   ]
  },
  {
   "cell_type": "code",
   "execution_count": 1,
   "metadata": {},
   "outputs": [],
   "source": [
    "from pomegranate import *"
   ]
  },
  {
   "cell_type": "code",
   "execution_count": 2,
   "metadata": {},
   "outputs": [],
   "source": [
    "# Defining the probabilities for each node of the Bayesian Network, according to the diagram\n",
    "\n",
    "A = DiscreteDistribution({1: 0.30, 0: 0.70})\n",
    "    \n",
    "B = ConditionalProbabilityTable([ [0, 1, 0.4],\n",
    "                                  [0, 0, 0.6],\n",
    "                                  [1, 1, 0.8],\n",
    "                                  [1, 0, 0.2]], [A])\n",
    "    \n",
    "C = ConditionalProbabilityTable([[0,0,1, 0.1],\n",
    "                                 [0,0,0, 0.9],\n",
    "                                 [0,1,1, 0.7],\n",
    "                                 [0,1,0, 0.3],\n",
    "                                 [1,0,1, 0.5],\n",
    "                                 [1,0,0, 0.5],\n",
    "                                 [1,1,1, 0.99],\n",
    "                                 [1,1,0, 0.01]],[A, B])\n",
    "\n",
    "D = ConditionalProbabilityTable([ [0, 1, 0.55],\n",
    "                                  [0, 0, 0.45],\n",
    "                                  [1, 1, 0.2],\n",
    "                                  [1, 0, 0.8]], [B])"
   ]
  },
  {
   "cell_type": "code",
   "execution_count": 3,
   "metadata": {},
   "outputs": [],
   "source": [
    "# Instantiating each node\n",
    "s1 = Node(A, name=\"A\")\n",
    "s2 = Node(B, name=\"B\")\n",
    "s3 = Node(C, name=\"C\")\n",
    "s4 = Node(D, name=\"D\")"
   ]
  },
  {
   "cell_type": "code",
   "execution_count": 4,
   "metadata": {},
   "outputs": [],
   "source": [
    "# Create the Bayesian network object with a useful name\n",
    "model = BayesianNetwork(\"Causal Net\")\n",
    "\n",
    "# Add the four states to the network \n",
    "model.add_states(s1, s2, s3 ,s4)"
   ]
  },
  {
   "cell_type": "code",
   "execution_count": 5,
   "metadata": {},
   "outputs": [],
   "source": [
    "# Defining the endges between parent and child nodes\n",
    "model.add_edge(s1, s2)\n",
    "model.add_edge(s1, s3)\n",
    "model.add_edge(s2, s3)\n",
    "model.add_edge(s2, s4)\n",
    "model.bake()"
   ]
  },
  {
   "cell_type": "markdown",
   "metadata": {},
   "source": [
    "## 2. Calculating the queries"
   ]
  },
  {
   "cell_type": "markdown",
   "metadata": {},
   "source": [
    "After creating the model, we can calculate the conditional probabilities by using the method `.predict_proba()`. For example, if we wish to calculate P(A=T|B=T), we can use `model.predict_proba({'B':1})` and then inspect the resulting array to retrieve the probability corresponding to A=T (or {'A':1}). We will solve the first exercise to illustrate the strategy:"
   ]
  },
  {
   "cell_type": "markdown",
   "metadata": {},
   "source": [
    "### 1) P(A=T|C=T,D=T) "
   ]
  },
  {
   "cell_type": "code",
   "execution_count": 6,
   "metadata": {},
   "outputs": [
    {
     "data": {
      "text/plain": [
       "array([{\n",
       "    \"class\" : \"Distribution\",\n",
       "    \"dtype\" : \"int\",\n",
       "    \"name\" : \"DiscreteDistribution\",\n",
       "    \"parameters\" : [\n",
       "        {\n",
       "            \"1\" : 0.5054138717420109,\n",
       "            \"0\" : 0.49458612825798914\n",
       "        }\n",
       "    ],\n",
       "    \"frozen\" : false\n",
       "},\n",
       "       {\n",
       "    \"class\" : \"Distribution\",\n",
       "    \"dtype\" : \"int\",\n",
       "    \"name\" : \"DiscreteDistribution\",\n",
       "    \"parameters\" : [\n",
       "        {\n",
       "            \"0\" : 0.3516850950686168,\n",
       "            \"1\" : 0.6483149049313832\n",
       "        }\n",
       "    ],\n",
       "    \"frozen\" : false\n",
       "},\n",
       "       1, 1], dtype=object)"
      ]
     },
     "execution_count": 6,
     "metadata": {},
     "output_type": "execute_result"
    }
   ],
   "source": [
    "prob = model.predict_proba({'C':1, 'D':1})\n",
    "prob"
   ]
  },
  {
   "cell_type": "markdown",
   "metadata": {},
   "source": [
    "The `.predict_proba()` returns an array with four elements, corresponding to the four nodes we defined ('A', 'B', 'C', and 'D'). We can see that the last two elements of the array are 1 and 1, corresponding to the states we defined for 'C' and 'D'. The first two positions correspond to 'A' and 'B', respectively, and each of those contains a dictionary inside of which we can inspect the probabilities for '1' and '0', as the value for the 'parameters' key. Therefore, if we wish to know P(A=T|C=T,D=T), and we already established that (C=T,D=T), we need to check the first element (corresponding to 'A') of the array for the boolean state '1', in order to know that the probability we are calculating is __0.5054138717420109__.\n",
    "\n",
    "Although effective in practice, we are aware that this is not the most elegant way to display our results, so we defined the 'result' function to retrieve that value for us. We only need to pass 3 parameters: the result of the `.predict_proba()`, the node we wish to predict the probability given `.predict_proba()`, and the state of that node (0 or 1). The function will access the corresponding position of the letter in the array, transform it to a dictionary, and return the value for the boolean state key."
   ]
  },
  {
   "cell_type": "code",
   "execution_count": 7,
   "metadata": {},
   "outputs": [],
   "source": [
    "def result(predict, letter, TF):\n",
    "    #changing the letter to an integer n, according to its alphabetical position\n",
    "    letter_to_int = {'A':0, 'B':1, 'C':2, 'D':3}\n",
    "    n = letter_to_int[letter]\n",
    "    \n",
    "    # retrieving the n'th position of the prediction array, corresponding to the letter position\n",
    "    n_position = predict[n]\n",
    "    \n",
    "    # converting the element in the n'th position to an str and processing it so it becomes a\n",
    "    # string representation of a dictionary\n",
    "    dict_prob_str = str(n_position)\n",
    "    dict_prob_str = dict_prob_str.replace('\\n','')\n",
    "    dict_prob_str = dict_prob_str.replace(' ', '')\n",
    "    dict_prob_str = dict_prob_str.replace('false', '\"false\"')\n",
    "    \n",
    "    # converting the string representation of a dictionary to a dictionary\n",
    "    dict_prob = eval(dict_prob_str)\n",
    "    \n",
    "    # accessing the dictionary inside the 'parameters' key and retrieving the value (probability)\n",
    "    # corresponding to the TF key that was passed (0 or 1)\n",
    "    prob_value = dict_prob['parameters'][0][str(TF)]\n",
    "    \n",
    "    return prob_value"
   ]
  },
  {
   "cell_type": "code",
   "execution_count": 8,
   "metadata": {},
   "outputs": [
    {
     "name": "stdout",
     "output_type": "stream",
     "text": [
      "Probability result: 0.5054138717420109\n"
     ]
    }
   ],
   "source": [
    "prob = model.predict_proba({'C':1, 'D':1})\n",
    "p1 = result(prob, 'A', 1)\n",
    "print(\"Probability result:\" ,p1)"
   ]
  },
  {
   "cell_type": "markdown",
   "metadata": {},
   "source": [
    "After confirming that our function works as it should, we simply repeat the process for the remaining exercises."
   ]
  },
  {
   "cell_type": "markdown",
   "metadata": {},
   "source": [
    "### 2) P(A=T|D=F)"
   ]
  },
  {
   "cell_type": "code",
   "execution_count": 9,
   "metadata": {},
   "outputs": [
    {
     "name": "stdout",
     "output_type": "stream",
     "text": [
      "Probability result: 0.34651898734177244\n"
     ]
    }
   ],
   "source": [
    "prob = model.predict_proba({'D':0})\n",
    "p2 = result(prob, 'A', 1)\n",
    "print(\"Probability result:\" ,p2)"
   ]
  },
  {
   "cell_type": "markdown",
   "metadata": {},
   "source": [
    "### 3) P(B=T|C=T)"
   ]
  },
  {
   "cell_type": "code",
   "execution_count": 10,
   "metadata": {},
   "outputs": [
    {
     "name": "stdout",
     "output_type": "stream",
     "text": [
      "Probability result: 0.8100843263425553\n"
     ]
    }
   ],
   "source": [
    "prob = model.predict_proba({'C':1})\n",
    "p3 = result(prob, 'B', 1)\n",
    "print(\"Probability result:\" ,p3)"
   ]
  },
  {
   "cell_type": "markdown",
   "metadata": {},
   "source": [
    "### 4) P(B=T|A=T,C=T) "
   ]
  },
  {
   "cell_type": "code",
   "execution_count": 11,
   "metadata": {},
   "outputs": [
    {
     "name": "stdout",
     "output_type": "stream",
     "text": [
      "Probability result: 0.8878923766816139\n"
     ]
    }
   ],
   "source": [
    "prob = model.predict_proba({'A':1 , 'C':1})\n",
    "p4 = result(prob, 'B', 1)\n",
    "print(\"Probability result:\" ,p4)"
   ]
  },
  {
   "cell_type": "markdown",
   "metadata": {},
   "source": [
    "### 5) P(C=T|A=F,B=F,D=F) "
   ]
  },
  {
   "cell_type": "code",
   "execution_count": 12,
   "metadata": {},
   "outputs": [
    {
     "name": "stdout",
     "output_type": "stream",
     "text": [
      "Probability result: 0.10000000000000016\n"
     ]
    }
   ],
   "source": [
    "prob = model.predict_proba({'A':0 ,'B':0, 'D':0})\n",
    "p5 = result(prob, 'C', 1)\n",
    "print(\"Probability result:\" ,p5)"
   ]
  },
  {
   "cell_type": "markdown",
   "metadata": {},
   "source": [
    "## 3. Summary of results"
   ]
  },
  {
   "cell_type": "code",
   "execution_count": 13,
   "metadata": {},
   "outputs": [
    {
     "name": "stdout",
     "output_type": "stream",
     "text": [
      "1) 0.5054\n",
      "2) 0.3465\n",
      "3) 0.8101\n",
      "4) 0.8879\n",
      "5) 0.1\n"
     ]
    }
   ],
   "source": [
    "print(\"1) \" + str(round(p1,4)))\n",
    "print(\"2) \" + str(round(p2,4)))\n",
    "print(\"3) \" + str(round(p3,4)))\n",
    "print(\"4) \" + str(round(p4,4)))\n",
    "print(\"5) \" + str(round(p5,4)))"
   ]
  },
  {
   "cell_type": "markdown",
   "metadata": {},
   "source": [
    "## 4. Results using Hugin Lite 8.9"
   ]
  },
  {
   "cell_type": "markdown",
   "metadata": {},
   "source": [
    "We also used the Hugin Lite 8.9 software to solve the exercise and got the results bellow:\n",
    "\n",
    "    H1) 0.5068\n",
    "    H2) 0.3465\n",
    "    H3) 0.8576\n",
    "    H4) 0.8879\n",
    "    H5) 0.1000\n",
    "\n",
    "We included the output images from the Hugin software in the pdf document attached to this submission. We can see that the results for exercises 2, 4, and 5 were the same using pomegranate or Hugin, wile the results for 1 and 3 were, respectively, 0.014 and 0.475 higher when using Hugin. We are not certain as to why these differences occur, namely the magnitude of difference we see in 3. We will not discuss divergences in the results using the different softwares, as we simply wanted to disclose them."
   ]
  }
 ],
 "metadata": {
  "kernelspec": {
   "display_name": "Python 3",
   "language": "python",
   "name": "python3"
  },
  "language_info": {
   "codemirror_mode": {
    "name": "ipython",
    "version": 3
   },
   "file_extension": ".py",
   "mimetype": "text/x-python",
   "name": "python",
   "nbconvert_exporter": "python",
   "pygments_lexer": "ipython3",
   "version": "3.7.6"
  }
 },
 "nbformat": 4,
 "nbformat_minor": 4
}
